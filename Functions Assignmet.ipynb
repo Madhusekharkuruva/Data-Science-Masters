{
 "cells": [
  {
   "cell_type": "code",
   "execution_count": null,
   "id": "cdb16953-9e77-441f-a2cc-0792b8a29f20",
   "metadata": {},
   "outputs": [],
   "source": [
    "## Q1. Which keyword is used to create a function? Create a function to return a list of odd numbers in the\n",
    "# range of 1 to 25."
   ]
  },
  {
   "cell_type": "markdown",
   "id": "72a550e5-1d01-49fd-b042-f4a6ea832134",
   "metadata": {},
   "source": [
    "### Def is the keyword  "
   ]
  },
  {
   "cell_type": "code",
   "execution_count": 27,
   "id": "8c82ce58-ced1-4ba8-aae8-d5967365be4f",
   "metadata": {},
   "outputs": [],
   "source": [
    "def odd_numbers():\n",
    "    for i in range(1,25):\n",
    "        if i%2 == 1:\n",
    "            print(i)"
   ]
  },
  {
   "cell_type": "code",
   "execution_count": 28,
   "id": "6bf733dd-d09d-47e3-9b9f-0c35084274fa",
   "metadata": {},
   "outputs": [
    {
     "name": "stdout",
     "output_type": "stream",
     "text": [
      "1\n",
      "3\n",
      "5\n",
      "7\n",
      "9\n",
      "11\n",
      "13\n",
      "15\n",
      "17\n",
      "19\n",
      "21\n",
      "23\n"
     ]
    }
   ],
   "source": [
    "odd_numbers()"
   ]
  },
  {
   "cell_type": "code",
   "execution_count": 29,
   "id": "a1fac9fe-3907-4619-be30-44636b2dddba",
   "metadata": {},
   "outputs": [],
   "source": [
    "def test(**kwargs):\n",
    "    return kwargs"
   ]
  },
  {
   "cell_type": "code",
   "execution_count": 30,
   "id": "02d7f76e-1178-44ce-b918-cc98945f3b4e",
   "metadata": {},
   "outputs": [
    {
     "data": {
      "text/plain": [
       "{'a': 34, 'b': 23, 'c': [1, 2, 3, 4], 'd': ('sudh', 'pwskills')}"
      ]
     },
     "execution_count": 30,
     "metadata": {},
     "output_type": "execute_result"
    }
   ],
   "source": [
    "test(a = 34 , b = 23 , c = [1,2,3,4] , d = (\"sudh\" , \"pwskills\"))"
   ]
  },
  {
   "cell_type": "code",
   "execution_count": 31,
   "id": "17e4988a-0888-47b2-8de9-df23e83b622e",
   "metadata": {},
   "outputs": [],
   "source": [
    "def test(**kwargs):\n",
    "    for i in kwargs.keys():\n",
    "        if type(kwargs[i] ) == list :\n",
    "            return i , kwargs[i]"
   ]
  },
  {
   "cell_type": "code",
   "execution_count": 33,
   "id": "da45c15b-d71f-4e8a-a008-5ae19c9fcdb8",
   "metadata": {},
   "outputs": [
    {
     "data": {
      "text/plain": [
       "('c', [1, 2, 3, 4])"
      ]
     },
     "execution_count": 33,
     "metadata": {},
     "output_type": "execute_result"
    }
   ],
   "source": [
    "test(a = 34 , b = 23 , c = [1,2,3,4] , d = (\"sudh\" , \"pwskills\"))"
   ]
  },
  {
   "cell_type": "code",
   "execution_count": 34,
   "id": "c59981a2-caf5-44c5-8f82-be0a074f7a3c",
   "metadata": {},
   "outputs": [],
   "source": [
    "## What is an iterator in python? Name the method used to initialise the iterator object and the method\n",
    "## used for iteration. Use these methods to print the first five elements of the given list [2, 4, 6, 8, 10, 12, 14, 16,\n",
    "# 18, 20]."
   ]
  },
  {
   "cell_type": "code",
   "execution_count": 36,
   "id": "4c28802a-af73-4e3e-8a12-e4ed5d6a1795",
   "metadata": {},
   "outputs": [],
   "source": [
    "list = [2,4,6,8,10,12,14,16,18,20]"
   ]
  },
  {
   "cell_type": "code",
   "execution_count": 48,
   "id": "90726d5f-37a2-4ea3-8e62-015373721938",
   "metadata": {},
   "outputs": [
    {
     "data": {
      "text/plain": [
       "[2, 4, 6, 8, 10]"
      ]
     },
     "execution_count": 48,
     "metadata": {},
     "output_type": "execute_result"
    }
   ],
   "source": [
    "list[:5]"
   ]
  },
  {
   "cell_type": "code",
   "execution_count": null,
   "id": "8104343d-ef44-4fff-88a8-991c8cd5d77d",
   "metadata": {},
   "outputs": [],
   "source": []
  },
  {
   "cell_type": "code",
   "execution_count": null,
   "id": "b1236661-d7fa-4576-86d5-f348746a52f8",
   "metadata": {},
   "outputs": [],
   "source": []
  },
  {
   "cell_type": "code",
   "execution_count": null,
   "id": "cabf27b3-9958-4cd6-a9f3-ed2fc3ac855d",
   "metadata": {},
   "outputs": [],
   "source": []
  }
 ],
 "metadata": {
  "kernelspec": {
   "display_name": "Python 3 (ipykernel)",
   "language": "python",
   "name": "python3"
  },
  "language_info": {
   "codemirror_mode": {
    "name": "ipython",
    "version": 3
   },
   "file_extension": ".py",
   "mimetype": "text/x-python",
   "name": "python",
   "nbconvert_exporter": "python",
   "pygments_lexer": "ipython3",
   "version": "3.10.8"
  }
 },
 "nbformat": 4,
 "nbformat_minor": 5
}
