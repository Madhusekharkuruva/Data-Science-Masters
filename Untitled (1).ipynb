{
 "cells": [
  {
   "cell_type": "code",
   "execution_count": 4,
   "id": "b0fdc314-ba23-40a4-8245-d0d1e89b7d63",
   "metadata": {},
   "outputs": [
    {
     "name": "stdout",
     "output_type": "stream",
     "text": [
      "10\n"
     ]
    }
   ],
   "source": [
    " a = 10\n",
    "print(a)\n",
    "    "
   ]
  },
  {
   "cell_type": "markdown",
   "id": "2f37cbd5-1f3c-48a4-82a0-df3ef9973421",
   "metadata": {
    "tags": []
   },
   "source": [
    "##### This is introduction class"
   ]
  },
  {
   "cell_type": "code",
   "execution_count": 5,
   "id": "183746bc-9cbb-446c-b92c-5bf9d6a65970",
   "metadata": {},
   "outputs": [
    {
     "data": {
      "text/plain": [
       "2"
      ]
     },
     "execution_count": 5,
     "metadata": {},
     "output_type": "execute_result"
    }
   ],
   "source": [
    "1+1"
   ]
  },
  {
   "cell_type": "code",
   "execution_count": 8,
   "id": "ccc3bc34-78c7-4ffd-800f-41cfd9b8191b",
   "metadata": {},
   "outputs": [
    {
     "data": {
      "text/plain": [
       "20"
      ]
     },
     "execution_count": 8,
     "metadata": {},
     "output_type": "execute_result"
    }
   ],
   "source": [
    "\"\"\"\n",
    "This is the multi line string laterals\n",
    "This is the first programming language\n",
    "\n",
    "\"\"\"\n",
    "a =20\n",
    "a"
   ]
  },
  {
   "cell_type": "markdown",
   "id": "98aab75a-41fb-4f2b-8f9f-f5b3fe1abc16",
   "metadata": {},
   "source": [
    "#Hello world"
   ]
  },
  {
   "cell_type": "code",
   "execution_count": 11,
   "id": "e2bb9f6a-80ff-4e14-a289-5b07355b5000",
   "metadata": {},
   "outputs": [
    {
     "data": {
      "text/plain": [
       "2000"
      ]
     },
     "execution_count": 11,
     "metadata": {},
     "output_type": "execute_result"
    }
   ],
   "source": [
    "a = 2000\n",
    "a "
   ]
  },
  {
   "cell_type": "markdown",
   "id": "bac62fd5-66b4-4a2f-91c1-01650786fc1b",
   "metadata": {},
   "source": [
    "# Hello\n",
    "## Hello world\n",
    "### This is the h3 tag"
   ]
  },
  {
   "cell_type": "markdown",
   "id": "19fe16b6-1390-4c1d-93c7-78095aa4d5b0",
   "metadata": {},
   "source": [
    "### This is shortcut for the creating the cells by using the \"esc\" + A then we can see the extend the cells."
   ]
  },
  {
   "cell_type": "markdown",
   "id": "349187c9-c1bc-4197-aabc-69df2e23ce09",
   "metadata": {},
   "source": [
    "## Numbers"
   ]
  },
  {
   "cell_type": "code",
   "execution_count": 13,
   "id": "f3faffbd-10a1-4d1b-9b09-28c811f36358",
   "metadata": {},
   "outputs": [
    {
     "data": {
      "text/plain": [
       "4"
      ]
     },
     "execution_count": 13,
     "metadata": {},
     "output_type": "execute_result"
    }
   ],
   "source": [
    "1+3"
   ]
  },
  {
   "cell_type": "code",
   "execution_count": 15,
   "id": "28fbba32-5049-47f1-96eb-f360dfba603a",
   "metadata": {},
   "outputs": [
    {
     "name": "stdout",
     "output_type": "stream",
     "text": [
      "5\n"
     ]
    }
   ],
   "source": [
    "print(1+4)"
   ]
  },
  {
   "cell_type": "code",
   "execution_count": 18,
   "id": "04c9e1cf-0da0-4484-9408-5e888d00e20c",
   "metadata": {},
   "outputs": [
    {
     "name": "stdout",
     "output_type": "stream",
     "text": [
      "hello world my name is \n",
      " madhu sekhar\n"
     ]
    }
   ],
   "source": [
    "print(\"hello world my name is \\n madhu sekhar\")"
   ]
  },
  {
   "cell_type": "markdown",
   "id": "19ab7ce7-591d-469d-8e2c-4f4fe9a3d4dd",
   "metadata": {},
   "source": [
    "### Variable assignments"
   ]
  },
  {
   "cell_type": "code",
   "execution_count": 19,
   "id": "89ca6655-02e5-4227-9e8f-ce235c0ecf65",
   "metadata": {},
   "outputs": [],
   "source": [
    "name = \"Madhu\"\n",
    "work = \"In the accentrue\""
   ]
  },
  {
   "cell_type": "code",
   "execution_count": 22,
   "id": "64ecc11a-38d7-425e-a6ff-21e7742b92db",
   "metadata": {},
   "outputs": [
    {
     "data": {
      "text/plain": [
       "'Madhu'"
      ]
     },
     "execution_count": 22,
     "metadata": {},
     "output_type": "execute_result"
    }
   ],
   "source": [
    "name\n"
   ]
  },
  {
   "cell_type": "code",
   "execution_count": 23,
   "id": "4bb6af9b-a725-44ee-beaa-ac1fbb7ac082",
   "metadata": {},
   "outputs": [
    {
     "data": {
      "text/plain": [
       "'In the accentrue'"
      ]
     },
     "execution_count": 23,
     "metadata": {},
     "output_type": "execute_result"
    }
   ],
   "source": [
    "work"
   ]
  },
  {
   "cell_type": "code",
   "execution_count": 24,
   "id": "12c74234-7b58-48fe-b212-3c9e297688c9",
   "metadata": {},
   "outputs": [],
   "source": [
    "name = 20\n",
    "work = 40"
   ]
  },
  {
   "cell_type": "code",
   "execution_count": 25,
   "id": "d63b535c-1311-4161-8f7f-904d5540b8c0",
   "metadata": {},
   "outputs": [
    {
     "data": {
      "text/plain": [
       "20"
      ]
     },
     "execution_count": 25,
     "metadata": {},
     "output_type": "execute_result"
    }
   ],
   "source": [
    "name"
   ]
  },
  {
   "cell_type": "code",
   "execution_count": 26,
   "id": "d3ead40a-a4e5-4dc8-ab13-301382b63dca",
   "metadata": {},
   "outputs": [
    {
     "data": {
      "text/plain": [
       "40"
      ]
     },
     "execution_count": 26,
     "metadata": {},
     "output_type": "execute_result"
    }
   ],
   "source": [
    "work"
   ]
  },
  {
   "cell_type": "code",
   "execution_count": 27,
   "id": "ffa5e0fc-d58d-4452-a05f-f311bbc0b4e4",
   "metadata": {},
   "outputs": [
    {
     "data": {
      "text/plain": [
       "int"
      ]
     },
     "execution_count": 27,
     "metadata": {},
     "output_type": "execute_result"
    }
   ],
   "source": [
    "type(work)"
   ]
  },
  {
   "cell_type": "code",
   "execution_count": 28,
   "id": "5bc04dad-37e4-43bf-8af6-00b78dbfddaf",
   "metadata": {},
   "outputs": [
    {
     "data": {
      "text/plain": [
       "int"
      ]
     },
     "execution_count": 28,
     "metadata": {},
     "output_type": "execute_result"
    }
   ],
   "source": [
    "type(name)"
   ]
  },
  {
   "cell_type": "code",
   "execution_count": 30,
   "id": "19a4605c-3381-4b3e-9eab-79896b9e7c76",
   "metadata": {},
   "outputs": [],
   "source": [
    "name = \"hello world\"\n",
    "work = \"name\""
   ]
  },
  {
   "cell_type": "code",
   "execution_count": 31,
   "id": "4e69cf8a-d059-497e-bb94-3ae6af4fc99e",
   "metadata": {},
   "outputs": [
    {
     "data": {
      "text/plain": [
       "str"
      ]
     },
     "execution_count": 31,
     "metadata": {},
     "output_type": "execute_result"
    }
   ],
   "source": [
    "type(name)"
   ]
  },
  {
   "cell_type": "code",
   "execution_count": 32,
   "id": "4dcc6f93-bdfe-4a14-8259-3b1e65cadf99",
   "metadata": {},
   "outputs": [
    {
     "data": {
      "text/plain": [
       "str"
      ]
     },
     "execution_count": 32,
     "metadata": {},
     "output_type": "execute_result"
    }
   ],
   "source": [
    "type(work)"
   ]
  },
  {
   "cell_type": "code",
   "execution_count": 33,
   "id": "d09f2771-e0ec-47ba-9884-f88541367dd7",
   "metadata": {},
   "outputs": [
    {
     "data": {
      "text/plain": [
       "140148278211632"
      ]
     },
     "execution_count": 33,
     "metadata": {},
     "output_type": "execute_result"
    }
   ],
   "source": [
    "id(name)"
   ]
  },
  {
   "cell_type": "code",
   "execution_count": 35,
   "id": "d9463602-e583-44e1-a4fe-961866bc00e5",
   "metadata": {},
   "outputs": [
    {
     "data": {
      "text/plain": [
       "140148345866992"
      ]
     },
     "execution_count": 35,
     "metadata": {},
     "output_type": "execute_result"
    }
   ],
   "source": [
    "id(work)"
   ]
  },
  {
   "cell_type": "code",
   "execution_count": 36,
   "id": "f4714b7f-d28a-4937-a78c-7eb6b9a9e317",
   "metadata": {},
   "outputs": [
    {
     "data": {
      "text/plain": [
       "complex"
      ]
     },
     "execution_count": 36,
     "metadata": {},
     "output_type": "execute_result"
    }
   ],
   "source": [
    "type(1+3j)"
   ]
  },
  {
   "cell_type": "code",
   "execution_count": 38,
   "id": "c1d6fca9-b5e8-4514-8693-88ce6d39cb02",
   "metadata": {},
   "outputs": [],
   "source": [
    "## bad way to write the varibles\n",
    "### dont start vaibles with numbers 1a\n"
   ]
  },
  {
   "cell_type": "markdown",
   "id": "b2bedeb9-b090-4cad-a4f6-02f37eb5ed7e",
   "metadata": {},
   "source": [
    "#### varibles are all case sensetive"
   ]
  },
  {
   "cell_type": "code",
   "execution_count": 39,
   "id": "f850e98b-efde-4594-ae1f-c2519ce620a8",
   "metadata": {},
   "outputs": [],
   "source": [
    "company = \"pw skills\"\n",
    "work = \"cloud practiotiner\""
   ]
  },
  {
   "cell_type": "code",
   "execution_count": 40,
   "id": "b9dd8194-3490-4b1e-846a-39940b439dc2",
   "metadata": {},
   "outputs": [
    {
     "name": "stdout",
     "output_type": "stream",
     "text": [
      "pw skills\n",
      "cloud practiotiner\n"
     ]
    }
   ],
   "source": [
    "print(company)\n",
    "print(work)"
   ]
  },
  {
   "cell_type": "markdown",
   "id": "45d617ea-b631-4700-9faa-578bc9eb0654",
   "metadata": {},
   "source": [
    "### Boolean"
   ]
  },
  {
   "cell_type": "code",
   "execution_count": 41,
   "id": "7e027b6a-279c-419e-935d-dab9cfe1df22",
   "metadata": {},
   "outputs": [
    {
     "data": {
      "text/plain": [
       "True"
      ]
     },
     "execution_count": 41,
     "metadata": {},
     "output_type": "execute_result"
    }
   ],
   "source": [
    "True"
   ]
  },
  {
   "cell_type": "code",
   "execution_count": 42,
   "id": "accd29de-03ac-4087-a9b3-c403dd7ef1c5",
   "metadata": {},
   "outputs": [
    {
     "data": {
      "text/plain": [
       "False"
      ]
     },
     "execution_count": 42,
     "metadata": {},
     "output_type": "execute_result"
    }
   ],
   "source": [
    "False"
   ]
  },
  {
   "cell_type": "code",
   "execution_count": 43,
   "id": "4226a730-10b1-4e17-ad3e-a85f5bcfc9f2",
   "metadata": {},
   "outputs": [
    {
     "data": {
      "text/plain": [
       "False"
      ]
     },
     "execution_count": 43,
     "metadata": {},
     "output_type": "execute_result"
    }
   ],
   "source": [
    "True and False"
   ]
  },
  {
   "cell_type": "code",
   "execution_count": 44,
   "id": "730a323e-2e28-4a85-9e03-7f7330735fd3",
   "metadata": {},
   "outputs": [
    {
     "data": {
      "text/plain": [
       "True"
      ]
     },
     "execution_count": 44,
     "metadata": {},
     "output_type": "execute_result"
    }
   ],
   "source": [
    "True and True"
   ]
  },
  {
   "cell_type": "code",
   "execution_count": 45,
   "id": "457dbaf9-c4b0-472b-bd4d-660ac523e32d",
   "metadata": {},
   "outputs": [
    {
     "data": {
      "text/plain": [
       "True"
      ]
     },
     "execution_count": 45,
     "metadata": {},
     "output_type": "execute_result"
    }
   ],
   "source": [
    "True or false"
   ]
  },
  {
   "cell_type": "code",
   "execution_count": 46,
   "id": "b8a3b778-7b0c-49a5-bddc-a75540f8e8a8",
   "metadata": {},
   "outputs": [
    {
     "data": {
      "text/plain": [
       "True"
      ]
     },
     "execution_count": 46,
     "metadata": {},
     "output_type": "execute_result"
    }
   ],
   "source": [
    "bool(1)"
   ]
  },
  {
   "cell_type": "code",
   "execution_count": 49,
   "id": "23318f71-b5f2-4995-93a8-fc04b946a9a8",
   "metadata": {},
   "outputs": [
    {
     "data": {
      "text/plain": [
       "bool"
      ]
     },
     "execution_count": 49,
     "metadata": {},
     "output_type": "execute_result"
    }
   ],
   "source": [
    "type(True)"
   ]
  },
  {
   "cell_type": "code",
   "execution_count": 53,
   "id": "6c8845ee-03db-489b-baea-c541c96a3218",
   "metadata": {},
   "outputs": [
    {
     "name": "stdout",
     "output_type": "stream",
     "text": [
      "23\n"
     ]
    }
   ],
   "source": [
    "a = \"23\"\n",
    "print(str(a))"
   ]
  },
  {
   "cell_type": "code",
   "execution_count": 54,
   "id": "cb75c275-f7f0-4db1-b0b0-76dc40d79c0f",
   "metadata": {},
   "outputs": [
    {
     "name": "stdout",
     "output_type": "stream",
     "text": [
      "<class 'str'>\n"
     ]
    }
   ],
   "source": [
    "print(type(a))"
   ]
  },
  {
   "cell_type": "markdown",
   "id": "d6d2659c-7f17-465a-b1f4-cfdd0802dc2a",
   "metadata": {},
   "source": [
    "### Dynamic Typing"
   ]
  },
  {
   "cell_type": "code",
   "execution_count": 55,
   "id": "b3da9173-6290-4fb4-ae19-cc51122a7a8e",
   "metadata": {},
   "outputs": [],
   "source": [
    "a = 10\n",
    "b = 10.4\n",
    "c = 10+40j\n",
    "d = True\n",
    "e = \"hello\""
   ]
  },
  {
   "cell_type": "code",
   "execution_count": 56,
   "id": "c29d069e-f282-410d-8685-fbafb2075049",
   "metadata": {},
   "outputs": [
    {
     "name": "stdout",
     "output_type": "stream",
     "text": [
      "10\n",
      "10.4\n",
      "(10+40j)\n",
      "True\n",
      "hello\n"
     ]
    }
   ],
   "source": [
    "print(a)\n",
    "print(b)\n",
    "print(c)\n",
    "print(d)\n",
    "print(e)"
   ]
  },
  {
   "cell_type": "code",
   "execution_count": null,
   "id": "8ebfdcd3-742d-4151-a5f9-9cce2726a03c",
   "metadata": {},
   "outputs": [],
   "source": []
  },
  {
   "cell_type": "code",
   "execution_count": null,
   "id": "f713d26d-650f-45f7-93cd-9ccbb4a4330a",
   "metadata": {},
   "outputs": [],
   "source": []
  },
  {
   "cell_type": "code",
   "execution_count": null,
   "id": "c6e75bec-8432-4708-8627-17524507049d",
   "metadata": {},
   "outputs": [],
   "source": []
  },
  {
   "cell_type": "code",
   "execution_count": null,
   "id": "8ec034dd-fff3-4ede-b028-1a25c13fafa9",
   "metadata": {},
   "outputs": [],
   "source": []
  },
  {
   "cell_type": "code",
   "execution_count": null,
   "id": "c18d6061-27f6-44fb-81c0-98bda7c7dc26",
   "metadata": {},
   "outputs": [],
   "source": []
  },
  {
   "cell_type": "code",
   "execution_count": null,
   "id": "fe5bb937-7522-46fb-8ea9-711b5fddce20",
   "metadata": {},
   "outputs": [],
   "source": []
  },
  {
   "cell_type": "code",
   "execution_count": null,
   "id": "18b1db5f-61ea-4f3a-bc8c-b7834de374ea",
   "metadata": {},
   "outputs": [],
   "source": []
  },
  {
   "cell_type": "code",
   "execution_count": null,
   "id": "d4b9dcf3-8276-492b-9129-d0622c479d51",
   "metadata": {},
   "outputs": [],
   "source": []
  },
  {
   "cell_type": "code",
   "execution_count": null,
   "id": "2016386b-8da2-4eb8-bd25-5949d0ae6584",
   "metadata": {},
   "outputs": [],
   "source": []
  },
  {
   "cell_type": "code",
   "execution_count": null,
   "id": "6f2a2074-85ff-4ee1-81b2-59500b766815",
   "metadata": {},
   "outputs": [],
   "source": []
  },
  {
   "cell_type": "code",
   "execution_count": null,
   "id": "e0eee974-2301-4852-9b3b-6320fb74c340",
   "metadata": {},
   "outputs": [],
   "source": []
  },
  {
   "cell_type": "code",
   "execution_count": null,
   "id": "bdda5aaf-e6b5-4446-96a4-4a893be4ddc6",
   "metadata": {},
   "outputs": [],
   "source": []
  },
  {
   "cell_type": "code",
   "execution_count": null,
   "id": "08efdf32-9b7b-4b6a-875c-105dbdb4c83c",
   "metadata": {},
   "outputs": [],
   "source": []
  },
  {
   "cell_type": "code",
   "execution_count": null,
   "id": "34482e80-0c05-4cc3-88b5-50ef2e064439",
   "metadata": {},
   "outputs": [],
   "source": []
  },
  {
   "cell_type": "code",
   "execution_count": null,
   "id": "91a1e4c6-04cf-481d-9a25-8f6347bbdfc0",
   "metadata": {},
   "outputs": [],
   "source": []
  },
  {
   "cell_type": "code",
   "execution_count": null,
   "id": "23c045f7-ff62-4c95-92a5-ad90d4c7d311",
   "metadata": {},
   "outputs": [],
   "source": []
  },
  {
   "cell_type": "code",
   "execution_count": null,
   "id": "043cc22f-c15e-47fd-9033-81eb595919dd",
   "metadata": {},
   "outputs": [],
   "source": []
  },
  {
   "cell_type": "code",
   "execution_count": null,
   "id": "5791dca8-a27d-48c0-a0f2-4a9f7efffb2d",
   "metadata": {},
   "outputs": [],
   "source": []
  },
  {
   "cell_type": "code",
   "execution_count": null,
   "id": "c9f4cbdc-790a-4a8c-9be6-9fe101cc06e1",
   "metadata": {},
   "outputs": [],
   "source": []
  },
  {
   "cell_type": "code",
   "execution_count": null,
   "id": "238935c5-fbf2-405c-bd9d-5d3e02ff9f17",
   "metadata": {},
   "outputs": [],
   "source": []
  },
  {
   "cell_type": "code",
   "execution_count": null,
   "id": "e17718ff-c834-4ca6-979e-f09e20e31a96",
   "metadata": {},
   "outputs": [],
   "source": []
  }
 ],
 "metadata": {
  "kernelspec": {
   "display_name": "Python 3 (ipykernel)",
   "language": "python",
   "name": "python3"
  },
  "language_info": {
   "codemirror_mode": {
    "name": "ipython",
    "version": 3
   },
   "file_extension": ".py",
   "mimetype": "text/x-python",
   "name": "python",
   "nbconvert_exporter": "python",
   "pygments_lexer": "ipython3",
   "version": "3.10.8"
  }
 },
 "nbformat": 4,
 "nbformat_minor": 5
}
