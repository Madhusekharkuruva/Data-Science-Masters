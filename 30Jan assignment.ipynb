{
 "cells": [
  {
   "cell_type": "code",
   "execution_count": 1,
   "id": "e66cf61c-d8fd-4231-8724-8fbfcd9ea481",
   "metadata": {},
   "outputs": [
    {
     "name": "stdin",
     "output_type": "stream",
     "text": [
      "Could you please enter your marks: 94\n"
     ]
    },
    {
     "name": "stdout",
     "output_type": "stream",
     "text": [
      "94  You secured grade is A\n"
     ]
    }
   ],
   "source": [
    "## Write a program to accept the percentage from the user and display the grade according to the following creteria\n",
    "## if marks > 90 its A\n",
    "## if marks > 80 and <=90 its B\n",
    "## if marks >=60 and <=80 its c\n",
    "## if marks <60 its d\n",
    "marks = int(input(\"Could you please enter your marks:\"))\n",
    "if marks > 90:\n",
    "    print(marks, \" You secured grade is A\")\n",
    "elif marks > 80 and marks <= 90:\n",
    "    print(marks, \"You secured grade is B\")\n",
    "elif marks >= 60 and marks<=80 :\n",
    "    print(marks, \"You secured grade is C\")\n",
    "else :\n",
    "    print(marks, \"You secured grade is D\")"
   ]
  },
  {
   "cell_type": "code",
   "execution_count": 2,
   "id": "90e4b8d2-e9a6-45ab-bf36-123521a98ada",
   "metadata": {},
   "outputs": [
    {
     "name": "stdin",
     "output_type": "stream",
     "text": [
      "Enter your Price of Bike: 560000\n"
     ]
    },
    {
     "name": "stdout",
     "output_type": "stream",
     "text": [
      "The 15% of tax should pay 84000.0\n"
     ]
    }
   ],
   "source": [
    "### Write a program to accept the cost price of a bike and display the road tax to be paid \n",
    "# according to the following criteria\n",
    "## cost price > 100000 you should pay 15% tax\n",
    "# cost price > 50000 and <= 100000 you should pay 10% tax\n",
    "# cost price <=50000 you should pay 5% tax\n",
    "Cost_price = int(input(\"Enter your Price of Bike:\"))\n",
    "if Cost_price > 100000:\n",
    "    print(\"The 15% of tax should pay\", Cost_price*0.15)\n",
    "elif Cost_price>50000 and Cost_price<=100000:\n",
    "    print(\"The 10% of tax should pay\", Cost_price*0.10)\n",
    "else:\n",
    "    print(\"The 5% of tax should pay\", Cost_price*0.05)"
   ]
  },
  {
   "cell_type": "code",
   "execution_count": 3,
   "id": "1cacefd6-1dd3-45ff-9553-a2550c5f4619",
   "metadata": {},
   "outputs": [
    {
     "name": "stdin",
     "output_type": "stream",
     "text": [
      "Enter your City: Delhi\n"
     ]
    },
    {
     "name": "stdout",
     "output_type": "stream",
     "text": [
      "the monument is Red Fort\n"
     ]
    }
   ],
   "source": [
    "# Accept any city from the user and display mouments of that city.\n",
    "# if city is delhi that should be redfort\n",
    "# if city is Agra that should be Taj Mahal\n",
    "# if city is Jaiput that should be Jal Mahal\n",
    "City = input(\"Enter your City:\")\n",
    "if City == \"Delhi\":\n",
    "    print(\"the monument is Red Fort\")\n",
    "elif City == \"Agra\":\n",
    "    print(\"The monument is Taj Mahal\")\n",
    "elif City == \"Jaipur\":\n",
    "    print(\"The monumnet is Jal Mahal\")\n",
    "else:\n",
    "    print(\"could pls enter 'Delhi','Agra','Jaipur'\")"
   ]
  },
  {
   "cell_type": "code",
   "execution_count": 4,
   "id": "38eff2a1-9da6-4ba7-a1a8-db95240d214f",
   "metadata": {},
   "outputs": [
    {
     "name": "stdout",
     "output_type": "stream",
     "text": [
      "10\n",
      "9\n",
      "8\n",
      "7\n",
      "6\n",
      "5\n",
      "4\n",
      "3\n",
      "2\n",
      "1\n"
     ]
    }
   ],
   "source": [
    "# Reverse a while loop numbers from 10 t0 1\n",
    "i = 10\n",
    "while(0<i):\n",
    "    print(i)\n",
    "    i = i-1"
   ]
  },
  {
   "cell_type": "code",
   "execution_count": 5,
   "id": "792559af-b340-4f8b-afae-52ba5de3a845",
   "metadata": {},
   "outputs": [
    {
     "name": "stdin",
     "output_type": "stream",
     "text": [
      "enter the number 100\n"
     ]
    },
    {
     "name": "stdout",
     "output_type": "stream",
     "text": [
      "3\n"
     ]
    }
   ],
   "source": [
    "## check how many times a given number can be divided by 3 before it is less than or equal to 10\n",
    "n = int(input(\"enter the number\"))\n",
    "count = 0\n",
    "while n>10:\n",
    "    n = n/3\n",
    "    count = count+1\n",
    "print(count)"
   ]
  },
  {
   "cell_type": "code",
   "execution_count": 6,
   "id": "fc207de7-5c9e-45c1-9cba-46315dfd6e04",
   "metadata": {},
   "outputs": [
    {
     "name": "stdin",
     "output_type": "stream",
     "text": [
      " Enter the number of rows: 5\n"
     ]
    },
    {
     "name": "stdout",
     "output_type": "stream",
     "text": [
      "* \n",
      "* * \n",
      "* * * \n",
      "* * * * \n",
      "* * * * * \n"
     ]
    }
   ],
   "source": [
    "n = int(input(\" Enter the number of rows:\"))\n",
    "for i in range(1,n+1):\n",
    "    for j in range(1,i+1):\n",
    "        print(\"*\",end =\" \")\n",
    "    print(\"\")"
   ]
  },
  {
   "cell_type": "code",
   "execution_count": 7,
   "id": "675f3d4c-5c3a-4b2e-af98-1a4e319b29a2",
   "metadata": {},
   "outputs": [
    {
     "name": "stdin",
     "output_type": "stream",
     "text": [
      "Enter the number of rows: 5\n"
     ]
    },
    {
     "name": "stdout",
     "output_type": "stream",
     "text": [
      "* * * * * \n",
      "* * * * \n",
      "* * * \n",
      "* * \n",
      "* \n"
     ]
    }
   ],
   "source": [
    "n = int(input(\"Enter the number of rows:\"))\n",
    "for i in range(1,n+1):\n",
    "    for j in range(1,n+2-i):\n",
    "        print(\"*\",end = \" \")\n",
    "    print(\"\")"
   ]
  },
  {
   "cell_type": "code",
   "execution_count": 8,
   "id": "904f0152-0590-4da9-8dd8-83c436668068",
   "metadata": {},
   "outputs": [
    {
     "name": "stdin",
     "output_type": "stream",
     "text": [
      "Enter the number of rows: 5\n"
     ]
    },
    {
     "name": "stdout",
     "output_type": "stream",
     "text": [
      "1 1 1 1 1 \n",
      "2 2 2 2 \n",
      "3 3 3 \n",
      "4 4 \n",
      "5 \n"
     ]
    }
   ],
   "source": [
    "n = int(input(\"Enter the number of rows:\"))\n",
    "for i in range(1,n+1):\n",
    "    for j in range(1,n+2-i):\n",
    "        print(i,end = \" \")\n",
    "    print(\"\")"
   ]
  },
  {
   "cell_type": "code",
   "execution_count": 9,
   "id": "f4a93def-82ea-40cc-8428-fbef5b2a4587",
   "metadata": {},
   "outputs": [
    {
     "name": "stdout",
     "output_type": "stream",
     "text": [
      "10\n",
      "20\n",
      "30\n"
     ]
    }
   ],
   "source": [
    "## when and why we use the while loop\n",
    "lst = [10,20,30]\n",
    "print(lst[0])\n",
    "print(lst[1])\n",
    "print(lst[2])"
   ]
  },
  {
   "cell_type": "code",
   "execution_count": 11,
   "id": "ff5d08da-f325-4d66-8b5a-f3ba2db3bf49",
   "metadata": {},
   "outputs": [
    {
     "name": "stdout",
     "output_type": "stream",
     "text": [
      "10\n",
      "20\n",
      "30\n"
     ]
    }
   ],
   "source": [
    "i = 0\n",
    "while(i<3):\n",
    "    print(lst[i])\n",
    "    i = i+1"
   ]
  },
  {
   "cell_type": "code",
   "execution_count": null,
   "id": "49c75390-0130-41aa-af2e-adbbc8b150cd",
   "metadata": {},
   "outputs": [],
   "source": [
    "## while you are using the while loop you should do the \n",
    "## instalization\n",
    "## check the condition by you\n",
    "## increment done by you \n",
    "## when you dont know the looping how many iterations done then we go for the while by giving the conditon.\n"
   ]
  },
  {
   "cell_type": "code",
   "execution_count": null,
   "id": "e186a6e8-40af-4ab5-87d7-556a74015a8b",
   "metadata": {},
   "outputs": [],
   "source": []
  },
  {
   "cell_type": "code",
   "execution_count": null,
   "id": "c3e8e72b-c569-4ba6-a74d-b95a083eea33",
   "metadata": {},
   "outputs": [],
   "source": []
  },
  {
   "cell_type": "code",
   "execution_count": null,
   "id": "cd0b58b0-0e41-4719-b334-3be0464b1849",
   "metadata": {},
   "outputs": [],
   "source": []
  }
 ],
 "metadata": {
  "kernelspec": {
   "display_name": "Python 3 (ipykernel)",
   "language": "python",
   "name": "python3"
  },
  "language_info": {
   "codemirror_mode": {
    "name": "ipython",
    "version": 3
   },
   "file_extension": ".py",
   "mimetype": "text/x-python",
   "name": "python",
   "nbconvert_exporter": "python",
   "pygments_lexer": "ipython3",
   "version": "3.10.8"
  }
 },
 "nbformat": 4,
 "nbformat_minor": 5
}
