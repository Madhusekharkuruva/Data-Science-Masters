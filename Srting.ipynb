{
 "cells": [
  {
   "cell_type": "markdown",
   "id": "0908ff61-ba10-4df4-83cb-29141e37ab53",
   "metadata": {},
   "source": [
    "## Strings"
   ]
  },
  {
   "cell_type": "code",
   "execution_count": 1,
   "id": "ff797baa-fb1f-4591-aac5-b3d6849992eb",
   "metadata": {},
   "outputs": [
    {
     "name": "stdout",
     "output_type": "stream",
     "text": [
      " python \n",
      "<class 'str'>\n",
      "140607068043824\n"
     ]
    }
   ],
   "source": [
    "s = \" python \" \n",
    "print(s)\n",
    "print(type(s))\n",
    "print(id(s))\n"
   ]
  },
  {
   "cell_type": "code",
   "execution_count": 3,
   "id": "cca1e26a-09f3-4ae9-a63a-39d7fb8c6fdb",
   "metadata": {},
   "outputs": [
    {
     "name": "stdout",
     "output_type": "stream",
     "text": [
      " python \n",
      " python \n",
      "140607068015920\n",
      "140607068026352\n",
      "p\n",
      "140607117444656\n"
     ]
    }
   ],
   "source": [
    "s =  \" python \"\n",
    "s1 = \" python \"\n",
    "print(s)\n",
    "print(s1)\n",
    "print(id(s))\n",
    "print(id(s1))\n",
    "print(s[1])\n",
    "print(id(s[1]))"
   ]
  },
  {
   "cell_type": "code",
   "execution_count": 4,
   "id": "9cd51a53-b1bc-481c-aee5-e953d226e6f6",
   "metadata": {},
   "outputs": [
    {
     "name": "stdout",
     "output_type": "stream",
     "text": [
      "Gudio Van Rosuum\n",
      "16\n",
      "Gudio Van Rosuum\n"
     ]
    }
   ],
   "source": [
    "s = \"Gudio Van Rosuum\"\n",
    "print(s)\n",
    "print(len(s))\n",
    "print(s[::])\n"
   ]
  },
  {
   "cell_type": "code",
   "execution_count": 8,
   "id": "5122caea-e701-4caa-8af9-01a03dd1d042",
   "metadata": {},
   "outputs": [
    {
     "name": "stdout",
     "output_type": "stream",
     "text": [
      "muusoR naV oiduG\n"
     ]
    }
   ],
   "source": [
    "reverse = s[::-1]\n",
    "print(reverse)"
   ]
  },
  {
   "cell_type": "code",
   "execution_count": 14,
   "id": "20bcad12-cdd7-46d1-81fb-5ed9aa8d67b9",
   "metadata": {},
   "outputs": [
    {
     "name": "stdin",
     "output_type": "stream",
     "text": [
      "enter a string:\n",
      " racecar\n"
     ]
    },
    {
     "name": "stdout",
     "output_type": "stream",
     "text": [
      "racecar\n",
      "racecar\n",
      "This is palindrome\n"
     ]
    }
   ],
   "source": [
    "## Palindrome\n",
    "s = input(\"enter a string:\\n\")\n",
    "print(s)\n",
    "if s == s[::-1]:\n",
    "        print(s)\n",
    "        print(\"This is palindrome\")\n",
    "    \n",
    "else:\n",
    "    print(\"This is not palindrome\")"
   ]
  },
  {
   "cell_type": "code",
   "execution_count": 17,
   "id": "9d862519-6d28-40a2-adcf-9ce1819629ba",
   "metadata": {},
   "outputs": [
    {
     "name": "stdin",
     "output_type": "stream",
     "text": [
      "Enter a String:\n",
      " python\n"
     ]
    },
    {
     "name": "stdout",
     "output_type": "stream",
     "text": [
      "no\n"
     ]
    }
   ],
   "source": [
    "## Reverse half half String\n",
    "s = input(\"Enter a String:\\n\")\n",
    "print(s[:len(s)//2:-1])"
   ]
  },
  {
   "cell_type": "code",
   "execution_count": 20,
   "id": "78f05ecb-f9e5-4a5b-90a2-bba0c80d5ae5",
   "metadata": {},
   "outputs": [
    {
     "name": "stdout",
     "output_type": "stream",
     "text": [
      "no\n"
     ]
    }
   ],
   "source": [
    "print(s[-1:-3:-1])\n"
   ]
  },
  {
   "cell_type": "markdown",
   "id": "5a877736-5ebc-43d9-a2f0-f1eeb30971a2",
   "metadata": {},
   "source": [
    "### String Operations"
   ]
  },
  {
   "cell_type": "code",
   "execution_count": 27,
   "id": "1f1e4318-b1f7-4b3a-a9e2-5506ea958028",
   "metadata": {},
   "outputs": [
    {
     "name": "stdout",
     "output_type": "stream",
     "text": [
      "140607071219312\n",
      "world\n",
      "140606768179248\n",
      "140606768179248\n"
     ]
    }
   ],
   "source": [
    "## + or *\n",
    "s = \"hello\"\n",
    "print(id(s))\n",
    "s = \"world\"\n",
    "print(s)\n",
    "print(id(s))\n",
    "print(id(s))\n"
   ]
  },
  {
   "cell_type": "code",
   "execution_count": 29,
   "id": "15e5c9e5-c123-47b3-a296-327b6245b64c",
   "metadata": {},
   "outputs": [
    {
     "name": "stdout",
     "output_type": "stream",
     "text": [
      "helloworld\n",
      "hello\n",
      "140607071219312\n",
      "world\n",
      "140606768183856\n",
      "140606768180528\n"
     ]
    }
   ],
   "source": [
    "s = \"hello\"\n",
    "s1 = \"world\"\n",
    "s2 = s+s1\n",
    "print(s2)\n",
    "print(s)\n",
    "print(id(s))\n",
    "print(s1)\n",
    "print(id(s1))\n",
    "print(id(s2))\n"
   ]
  },
  {
   "cell_type": "code",
   "execution_count": 33,
   "id": "30cabdab-e61e-4b10-ba6a-66ef40328fa5",
   "metadata": {},
   "outputs": [
    {
     "name": "stdout",
     "output_type": "stream",
     "text": [
      "['pytho', 'java', 'data']\n",
      "140606768053440\n",
      "pytho---java---data\n",
      "140606768302800\n"
     ]
    }
   ],
   "source": [
    "lst = [\"pytho\",\"java\",\"data\"]\n",
    "print(lst)\n",
    "print(id(lst))\n",
    "s = \"---\".join(lst)\n",
    "print(s)\n",
    "print(id(s))"
   ]
  },
  {
   "cell_type": "code",
   "execution_count": 51,
   "id": "9e6fa1d1-9989-42dc-b41c-ebcacc7b3551",
   "metadata": {},
   "outputs": [
    {
     "name": "stdin",
     "output_type": "stream",
     "text": [
      "Enter your string:\n",
      " PYThon@123\n"
     ]
    },
    {
     "name": "stdout",
     "output_type": "stream",
     "text": [
      "the number of lower letters 3\n",
      "the number of upper letters 3\n",
      "The number of special 1\n",
      "The number of number letters 3\n"
     ]
    }
   ],
   "source": [
    "## How to count the no of lower upper special characters\n",
    "s = input(\"Enter your string:\\n\")\n",
    "lower,upper,numbers = 0,0,0\n",
    "special = 0\n",
    "for i in s:\n",
    "    if i.islower():\n",
    "         lower = lower+1\n",
    "    elif i.isupper():\n",
    "        upper=upper+1\n",
    "    elif i.isnumeric():\n",
    "         numbers=numbers+1\n",
    "    else:\n",
    "        special = special+1\n",
    "print(\"the number of lower letters\",lower)\n",
    "print(\"the number of upper letters\",upper)\n",
    "print(\"The number of special\",special)\n",
    "print(\"The number of number letters\",numbers)\n",
    "          "
   ]
  },
  {
   "cell_type": "markdown",
   "id": "d9634a55-cffe-452c-a466-17ab53e4e091",
   "metadata": {},
   "source": [
    "### Removing spaces from string\n"
   ]
  },
  {
   "cell_type": "code",
   "execution_count": 52,
   "id": "5429c51f-93fc-4ad1-aa1b-16cf8073d3a4",
   "metadata": {},
   "outputs": [],
   "source": [
    "## rstrip()\n",
    "## lstrip()\n",
    "## strip()"
   ]
  },
  {
   "cell_type": "code",
   "execution_count": 53,
   "id": "f98bf8a1-2633-4fc1-bf49-63d1acb07ba6",
   "metadata": {},
   "outputs": [
    {
     "name": "stdin",
     "output_type": "stream",
     "text": [
      "Enter you city name \n",
      "           Chennai         \n"
     ]
    },
    {
     "name": "stdout",
     "output_type": "stream",
     "text": [
      "Chennai\n"
     ]
    }
   ],
   "source": [
    "city = input(\"Enter you city name \\n\")\n",
    "city = city.strip()\n",
    "print(city)"
   ]
  },
  {
   "cell_type": "code",
   "execution_count": 54,
   "id": "34140750-941b-48ae-aa12-98afdd14f782",
   "metadata": {},
   "outputs": [
    {
     "name": "stdin",
     "output_type": "stream",
     "text": [
      "Enter your city name \n",
      "                  Hyd\n"
     ]
    },
    {
     "name": "stdout",
     "output_type": "stream",
     "text": [
      "Hyd\n"
     ]
    }
   ],
   "source": [
    "city = input(\"Enter your city name \\n\")\n",
    "city = city.lstrip()\n",
    "print(city)\n"
   ]
  },
  {
   "cell_type": "code",
   "execution_count": 55,
   "id": "4d2782c7-02b2-43a8-ad14-34e5a149875e",
   "metadata": {},
   "outputs": [
    {
     "name": "stdin",
     "output_type": "stream",
     "text": [
      "Enter your city name\n",
      " Chennai          \n"
     ]
    },
    {
     "name": "stdout",
     "output_type": "stream",
     "text": [
      "Chennai\n"
     ]
    }
   ],
   "source": [
    "city = input(\"Enter your city name\\n\")\n",
    "city = city.rstrip()\n",
    "print(city)\n",
    "\n"
   ]
  },
  {
   "cell_type": "markdown",
   "id": "73d18f11-09a9-4d49-8ac9-5aacbb460356",
   "metadata": {},
   "source": [
    "### Counting substring in the given string"
   ]
  },
  {
   "cell_type": "code",
   "execution_count": 58,
   "id": "39568c41-9998-4627-8cce-e89ca52bfe66",
   "metadata": {},
   "outputs": [
    {
     "name": "stdout",
     "output_type": "stream",
     "text": [
      "1\n"
     ]
    }
   ],
   "source": [
    "s = \"hello\"\n",
    "print(s.count('h'))"
   ]
  },
  {
   "cell_type": "code",
   "execution_count": 66,
   "id": "ffd44058-79fe-4f5a-bebd-bfc6ef96bbfa",
   "metadata": {},
   "outputs": [
    {
     "name": "stdout",
     "output_type": "stream",
     "text": [
      "3\n",
      "3\n"
     ]
    }
   ],
   "source": [
    "s = \"hello world\"\n",
    "s1 = \"world\"\n",
    "print(s.count(\"l\"))\n",
    "print(s.count('l',0,len(s)))"
   ]
  },
  {
   "cell_type": "code",
   "execution_count": 67,
   "id": "ecb6b629-01b2-436d-8fad-a308cbd048d3",
   "metadata": {},
   "outputs": [],
   "source": [
    "## Replacing a string with another string"
   ]
  },
  {
   "cell_type": "code",
   "execution_count": 68,
   "id": "f3f16b9c-171e-4bdc-954f-0d00a7340d8c",
   "metadata": {},
   "outputs": [
    {
     "name": "stdout",
     "output_type": "stream",
     "text": [
      "world\n",
      "hello\n",
      "hello\n"
     ]
    }
   ],
   "source": [
    "s = \"hello\"\n",
    "s1 = 'world'\n",
    "print(s.replace(\"hello\",\"world\"))\n",
    "print(s)\n",
    "print(s1.replace(\"world\",\"hello\"))"
   ]
  },
  {
   "cell_type": "code",
   "execution_count": 69,
   "id": "5d720a0d-bb53-4376-a0e2-3f49e7c058c4",
   "metadata": {},
   "outputs": [],
   "source": [
    "## split the string"
   ]
  },
  {
   "cell_type": "code",
   "execution_count": 81,
   "id": "57f5e8b6-0a6b-44c7-894a-d457f333a39a",
   "metadata": {},
   "outputs": [
    {
     "name": "stdout",
     "output_type": "stream",
     "text": [
      "['durga software solutions']\n"
     ]
    }
   ],
   "source": [
    "s = \"durga software solutions\"\n",
    "l = s.split(\"----\")\n",
    "print(l)"
   ]
  },
  {
   "cell_type": "code",
   "execution_count": 78,
   "id": "fae3ae6e-20a6-45fb-a193-c7de21a10c1b",
   "metadata": {},
   "outputs": [
    {
     "name": "stdout",
     "output_type": "stream",
     "text": [
      "['22', '02', '2018']\n"
     ]
    }
   ],
   "source": [
    "s = \"22-02-2018\"\n",
    "l= s.split('-')\n",
    "print(l)"
   ]
  },
  {
   "cell_type": "code",
   "execution_count": 84,
   "id": "d512df80-b124-426d-9c4a-3c095f669ea9",
   "metadata": {},
   "outputs": [
    {
     "name": "stdout",
     "output_type": "stream",
     "text": [
      "sunny-bunny-chinny\n"
     ]
    }
   ],
   "source": [
    "### join\n",
    "t = ('sunny','bunny','chinny')\n",
    "t = '-'.join(t)\n",
    "print(s)"
   ]
  },
  {
   "cell_type": "markdown",
   "id": "54b2531b-d177-411e-817e-9a8876802c33",
   "metadata": {},
   "source": [
    "## Changing case of string"
   ]
  },
  {
   "cell_type": "code",
   "execution_count": 87,
   "id": "00fb7635-34d4-469a-b9cf-93a0975d1a8e",
   "metadata": {},
   "outputs": [
    {
     "name": "stdout",
     "output_type": "stream",
     "text": [
      "PYTHON IS VERY VERY EASY\n",
      "python is very very easy\n",
      "pythON IS VERY vERY EASY\n",
      "Python Is Very Very Easy\n",
      "Python is very very easy\n"
     ]
    }
   ],
   "source": [
    "s = \"PYTHon is very Very easy\"\n",
    "print(s.upper())\n",
    "print(s.lower())\n",
    "print(s.swapcase())\n",
    "print(s.title())\n",
    "print(s.capitalize())\n"
   ]
  },
  {
   "cell_type": "markdown",
   "id": "c91b2c5b-6e8f-4bf4-9dc6-2828bc2f50b4",
   "metadata": {},
   "source": [
    "## Checking starting and ending part of the string:\n"
   ]
  },
  {
   "cell_type": "code",
   "execution_count": 91,
   "id": "925a3e82-089d-4904-8c0d-4acfbee7e131",
   "metadata": {},
   "outputs": [
    {
     "name": "stdout",
     "output_type": "stream",
     "text": [
      "True\n",
      "False\n",
      "True\n",
      "False\n"
     ]
    }
   ],
   "source": [
    "s = \"Learning python is very easy\"\n",
    "print(s.startswith(\"Learning\"))\n",
    "print(s.endswith(\"python\"))\n",
    "print(s.endswith(\"easy\"))\n",
    "print(s.startswith(\"learning\"))"
   ]
  },
  {
   "cell_type": "markdown",
   "id": "5ffa4450-beda-4055-9b5c-31ee81d5b432",
   "metadata": {},
   "source": [
    "### To check type of characters present in a string"
   ]
  },
  {
   "cell_type": "code",
   "execution_count": 93,
   "id": "a5b3ac5f-7517-465a-a8b2-c7ee1b69f381",
   "metadata": {},
   "outputs": [
    {
     "name": "stdout",
     "output_type": "stream",
     "text": [
      "False\n",
      "False\n",
      "False\n",
      "False\n",
      "Learning Python Is Very Very Easy\n",
      "False\n"
     ]
    }
   ],
   "source": [
    "s = \"Learning python is very very easy\"\n",
    "print(s.isalnum())\n",
    "print(s.isalpha())\n",
    "print(s.isdigit())\n",
    "print(s.islower())\n",
    "print(s.title())\n",
    "print(s.isspace())"
   ]
  },
  {
   "cell_type": "code",
   "execution_count": null,
   "id": "e9c47764-9f5b-48b5-b32e-f2d675eb0dc5",
   "metadata": {},
   "outputs": [],
   "source": []
  },
  {
   "cell_type": "code",
   "execution_count": null,
   "id": "62ce8597-4696-4c2d-aecd-c2f643c9dafa",
   "metadata": {},
   "outputs": [],
   "source": []
  },
  {
   "cell_type": "code",
   "execution_count": null,
   "id": "87c8dc3a-de0b-46b9-9186-b86b978b4ab1",
   "metadata": {},
   "outputs": [],
   "source": []
  },
  {
   "cell_type": "code",
   "execution_count": null,
   "id": "ed6674c5-b403-4757-a6ac-58ed7b3e24f3",
   "metadata": {},
   "outputs": [],
   "source": []
  },
  {
   "cell_type": "code",
   "execution_count": null,
   "id": "1cc21e5c-7b53-4e65-9f51-79d1facc3246",
   "metadata": {},
   "outputs": [],
   "source": []
  },
  {
   "cell_type": "code",
   "execution_count": null,
   "id": "61b83636-0329-4956-876d-1e2463e8a312",
   "metadata": {},
   "outputs": [],
   "source": []
  },
  {
   "cell_type": "code",
   "execution_count": null,
   "id": "2d817ff2-9784-4618-b160-98edeb43b10e",
   "metadata": {},
   "outputs": [],
   "source": []
  },
  {
   "cell_type": "code",
   "execution_count": null,
   "id": "be756e34-7fbd-4cce-a1f0-169fc731562a",
   "metadata": {},
   "outputs": [],
   "source": []
  },
  {
   "cell_type": "code",
   "execution_count": null,
   "id": "418cad11-198d-4ff2-8ffb-9d1831f85013",
   "metadata": {},
   "outputs": [],
   "source": []
  },
  {
   "cell_type": "code",
   "execution_count": null,
   "id": "54a68cb5-1972-486c-ba07-094b83420f90",
   "metadata": {},
   "outputs": [],
   "source": []
  },
  {
   "cell_type": "code",
   "execution_count": null,
   "id": "93240d68-4b65-4e2a-a1eb-8b5c5ad9ebf8",
   "metadata": {},
   "outputs": [],
   "source": []
  },
  {
   "cell_type": "code",
   "execution_count": null,
   "id": "bae833ff-ac2d-4a47-9041-a667f2c82269",
   "metadata": {},
   "outputs": [],
   "source": []
  },
  {
   "cell_type": "code",
   "execution_count": null,
   "id": "96cae8fb-4490-47c9-a088-4c96621779ba",
   "metadata": {},
   "outputs": [],
   "source": []
  },
  {
   "cell_type": "code",
   "execution_count": null,
   "id": "59555290-ad5a-4b22-a536-26f38850f365",
   "metadata": {},
   "outputs": [],
   "source": []
  },
  {
   "cell_type": "code",
   "execution_count": null,
   "id": "d31752e2-d807-45ee-946d-206172e4aa01",
   "metadata": {},
   "outputs": [],
   "source": []
  },
  {
   "cell_type": "code",
   "execution_count": null,
   "id": "83c7d4df-9854-4715-8378-c26823abfb77",
   "metadata": {},
   "outputs": [],
   "source": []
  },
  {
   "cell_type": "code",
   "execution_count": null,
   "id": "2c0693d3-c88a-4ae4-b4c8-2891b4cec707",
   "metadata": {},
   "outputs": [],
   "source": []
  },
  {
   "cell_type": "code",
   "execution_count": null,
   "id": "b2beae79-7451-4588-a746-d62df8300f54",
   "metadata": {},
   "outputs": [],
   "source": []
  },
  {
   "cell_type": "code",
   "execution_count": null,
   "id": "868846f7-60ee-4f9b-8340-6c002aec30d3",
   "metadata": {},
   "outputs": [],
   "source": []
  },
  {
   "cell_type": "code",
   "execution_count": null,
   "id": "2d104bd5-214d-476e-a82b-dc81d61682e7",
   "metadata": {},
   "outputs": [],
   "source": []
  },
  {
   "cell_type": "code",
   "execution_count": null,
   "id": "e8fc66dd-c4a2-46cd-84e1-c025dc8ffdb3",
   "metadata": {},
   "outputs": [],
   "source": []
  },
  {
   "cell_type": "code",
   "execution_count": null,
   "id": "e9b05d61-579f-4826-bb1f-e1b80ba532d1",
   "metadata": {},
   "outputs": [],
   "source": []
  },
  {
   "cell_type": "code",
   "execution_count": null,
   "id": "7bbc44fe-cec5-4bcb-b8b6-27939b4c9e15",
   "metadata": {},
   "outputs": [],
   "source": []
  }
 ],
 "metadata": {
  "kernelspec": {
   "display_name": "Python 3 (ipykernel)",
   "language": "python",
   "name": "python3"
  },
  "language_info": {
   "codemirror_mode": {
    "name": "ipython",
    "version": 3
   },
   "file_extension": ".py",
   "mimetype": "text/x-python",
   "name": "python",
   "nbconvert_exporter": "python",
   "pygments_lexer": "ipython3",
   "version": "3.10.8"
  }
 },
 "nbformat": 4,
 "nbformat_minor": 5
}
