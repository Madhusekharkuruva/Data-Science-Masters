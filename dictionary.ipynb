{
 "cells": [
  {
   "cell_type": "code",
   "execution_count": 1,
   "id": "f964dddd-cb71-4a8a-923a-0d8f8a2bf0af",
   "metadata": {
    "jupyter": {
     "source_hidden": true
    },
    "tags": []
   },
   "outputs": [],
   "source": [
    "## How to create a dictionary"
   ]
  },
  {
   "cell_type": "code",
   "execution_count": 5,
   "id": "453201dd-0cc3-46fb-a4f9-c1d5bd4e4163",
   "metadata": {},
   "outputs": [
    {
     "name": "stdout",
     "output_type": "stream",
     "text": [
      "<class 'dict'>\n",
      "140604570071360\n"
     ]
    }
   ],
   "source": [
    "d = {}\n",
    "print(type(d))\n",
    "print(id(d))"
   ]
  },
  {
   "cell_type": "code",
   "execution_count": 4,
   "id": "0f353d87-aa9e-41b7-bd58-f3b553f22131",
   "metadata": {},
   "outputs": [
    {
     "name": "stdout",
     "output_type": "stream",
     "text": [
      "<class 'dict'>\n",
      "140604857270208\n"
     ]
    }
   ],
   "source": [
    "## or\n",
    "d = dict()\n",
    "print(type(d))\n",
    "print(id(d))"
   ]
  },
  {
   "cell_type": "code",
   "execution_count": 6,
   "id": "14a9ab67-575f-40e6-b137-482a1940bf70",
   "metadata": {},
   "outputs": [
    {
     "name": "stdout",
     "output_type": "stream",
     "text": [
      "{'name': 'sudha', 100: 'madhu', 200: 'raja'}\n"
     ]
    }
   ],
   "source": [
    "d = {\"name\" : \"sudha\",100 : \"madhu\",200 : \"raja\"}\n",
    "print(d)"
   ]
  },
  {
   "cell_type": "code",
   "execution_count": 7,
   "id": "bb686ce6-d1a8-436a-ae60-9fdb1e8668b0",
   "metadata": {},
   "outputs": [
    {
     "data": {
      "text/plain": [
       "dict_values(['sudha', 'madhu', 'raja'])"
      ]
     },
     "execution_count": 7,
     "metadata": {},
     "output_type": "execute_result"
    }
   ],
   "source": [
    "d.values()"
   ]
  },
  {
   "cell_type": "code",
   "execution_count": 8,
   "id": "9d96e169-6fa7-4de7-940e-146c357a34cc",
   "metadata": {},
   "outputs": [
    {
     "data": {
      "text/plain": [
       "dict_keys(['name', 100, 200])"
      ]
     },
     "execution_count": 8,
     "metadata": {},
     "output_type": "execute_result"
    }
   ],
   "source": [
    "d.keys()"
   ]
  },
  {
   "cell_type": "code",
   "execution_count": 12,
   "id": "4acb17cf-75d4-4024-9e2b-12f15695f9a5",
   "metadata": {},
   "outputs": [],
   "source": [
    "d1 = {\"name\" : \"sudha\" , \"name\" : \"Sudha\"}"
   ]
  },
  {
   "cell_type": "code",
   "execution_count": 13,
   "id": "f838a910-a144-40be-b6bd-d1bc33acbfaa",
   "metadata": {},
   "outputs": [
    {
     "data": {
      "text/plain": [
       "{'name': 'Sudha'}"
      ]
     },
     "execution_count": 13,
     "metadata": {},
     "output_type": "execute_result"
    }
   ],
   "source": [
    "d1"
   ]
  },
  {
   "cell_type": "code",
   "execution_count": 17,
   "id": "598fd641-e4e7-41a7-860e-b8be2bb0b78e",
   "metadata": {},
   "outputs": [],
   "source": [
    "d1 = {\"name\" : \"Sudha\" , \"name\" : \"Sudhanshu\"}"
   ]
  },
  {
   "cell_type": "code",
   "execution_count": 18,
   "id": "a89ce1e2-8658-4e9b-8ef9-cc79d370586e",
   "metadata": {},
   "outputs": [
    {
     "data": {
      "text/plain": [
       "{'name': 'Sudhanshu'}"
      ]
     },
     "execution_count": 18,
     "metadata": {},
     "output_type": "execute_result"
    }
   ],
   "source": [
    "d1"
   ]
  },
  {
   "cell_type": "markdown",
   "id": "cbe3b273-d8ec-4a7a-910d-6bf1f09fe361",
   "metadata": {},
   "source": [
    "## How to access data from the dictionary"
   ]
  },
  {
   "cell_type": "code",
   "execution_count": 19,
   "id": "873a9444-81ae-407c-92ac-d6d6c98fb8fc",
   "metadata": {},
   "outputs": [
    {
     "data": {
      "text/plain": [
       "'Durga'"
      ]
     },
     "execution_count": 19,
     "metadata": {},
     "output_type": "execute_result"
    }
   ],
   "source": [
    "d = {100 : \"Durga\" , 200 : \"Manu\"}\n",
    "d[100]"
   ]
  },
  {
   "cell_type": "code",
   "execution_count": 20,
   "id": "5ec5622b-7127-438e-ace9-ef7f78a2b017",
   "metadata": {},
   "outputs": [
    {
     "data": {
      "text/plain": [
       "'Manu'"
      ]
     },
     "execution_count": 20,
     "metadata": {},
     "output_type": "execute_result"
    }
   ],
   "source": [
    "d[200]"
   ]
  },
  {
   "cell_type": "code",
   "execution_count": 21,
   "id": "0700d0a0-b8d3-4eb8-94dd-f59ec24f8bc2",
   "metadata": {},
   "outputs": [],
   "source": [
    "d = {123 : \"manu\"}"
   ]
  },
  {
   "cell_type": "code",
   "execution_count": 22,
   "id": "f7b6da30-b0fa-4c28-bcf7-6d3341233ae7",
   "metadata": {},
   "outputs": [
    {
     "data": {
      "text/plain": [
       "{123: 'manu'}"
      ]
     },
     "execution_count": 22,
     "metadata": {},
     "output_type": "execute_result"
    }
   ],
   "source": [
    "d"
   ]
  },
  {
   "cell_type": "code",
   "execution_count": 23,
   "id": "3a37431d-a3d7-4dce-8f41-bde14d8cab78",
   "metadata": {},
   "outputs": [],
   "source": [
    "d = {True : \"False\"}"
   ]
  },
  {
   "cell_type": "code",
   "execution_count": 24,
   "id": "fbdff632-2293-4ddd-a1c5-74edc2f4b860",
   "metadata": {},
   "outputs": [
    {
     "data": {
      "text/plain": [
       "{True: 'False'}"
      ]
     },
     "execution_count": 24,
     "metadata": {},
     "output_type": "execute_result"
    }
   ],
   "source": [
    "d"
   ]
  },
  {
   "cell_type": "code",
   "execution_count": 25,
   "id": "8172e7a6-ac3f-4ec4-a039-554bd40ecdc1",
   "metadata": {},
   "outputs": [
    {
     "ename": "SyntaxError",
     "evalue": "invalid syntax (4041406243.py, line 1)",
     "output_type": "error",
     "traceback": [
      "\u001b[0;36m  Cell \u001b[0;32mIn[25], line 1\u001b[0;36m\u001b[0m\n\u001b[0;31m    d = {@ : \"hello\"}\u001b[0m\n\u001b[0m         ^\u001b[0m\n\u001b[0;31mSyntaxError\u001b[0m\u001b[0;31m:\u001b[0m invalid syntax\n"
     ]
    }
   ],
   "source": [
    "d = {@ : \"hello\"}\n",
    "d"
   ]
  },
  {
   "cell_type": "code",
   "execution_count": 26,
   "id": "bb69e523-8a12-42e2-80bc-f1985da244d6",
   "metadata": {},
   "outputs": [
    {
     "ename": "TypeError",
     "evalue": "unhashable type: 'list'",
     "output_type": "error",
     "traceback": [
      "\u001b[0;31m---------------------------------------------------------------------------\u001b[0m",
      "\u001b[0;31mTypeError\u001b[0m                                 Traceback (most recent call last)",
      "Cell \u001b[0;32mIn[26], line 1\u001b[0m\n\u001b[0;32m----> 1\u001b[0m d8 \u001b[38;5;241m=\u001b[39m {[\u001b[38;5;241m1\u001b[39m,\u001b[38;5;241m2\u001b[39m,\u001b[38;5;241m4\u001b[39m] : \u001b[38;5;124m\"\u001b[39m\u001b[38;5;124mabc\u001b[39m\u001b[38;5;124m\"\u001b[39m}\n",
      "\u001b[0;31mTypeError\u001b[0m: unhashable type: 'list'"
     ]
    }
   ],
   "source": [
    "d8 = {[1,2,4] : \"abc\"}"
   ]
  },
  {
   "cell_type": "code",
   "execution_count": 27,
   "id": "153cb4eb-7ce6-41ac-a28e-6cc7149602d3",
   "metadata": {},
   "outputs": [
    {
     "data": {
      "text/plain": [
       "{(1, 2, 3): 'abc'}"
      ]
     },
     "execution_count": 27,
     "metadata": {},
     "output_type": "execute_result"
    }
   ],
   "source": [
    "d9 = {(1,2,3) : \"abc\"}\n",
    "d9"
   ]
  },
  {
   "cell_type": "code",
   "execution_count": 28,
   "id": "23b8d94a-0260-4121-8576-9594eaa29b6e",
   "metadata": {},
   "outputs": [
    {
     "ename": "TypeError",
     "evalue": "unhashable type: 'set'",
     "output_type": "error",
     "traceback": [
      "\u001b[0;31m---------------------------------------------------------------------------\u001b[0m",
      "\u001b[0;31mTypeError\u001b[0m                                 Traceback (most recent call last)",
      "Cell \u001b[0;32mIn[28], line 1\u001b[0m\n\u001b[0;32m----> 1\u001b[0m d10 \u001b[38;5;241m=\u001b[39m {{\u001b[38;5;241m1\u001b[39m,\u001b[38;5;241m2\u001b[39m,\u001b[38;5;241m3\u001b[39m} : \u001b[38;5;124m\"\u001b[39m\u001b[38;5;124mabc\u001b[39m\u001b[38;5;124m\"\u001b[39m}\n",
      "\u001b[0;31mTypeError\u001b[0m: unhashable type: 'set'"
     ]
    }
   ],
   "source": [
    "d10 = {{1,2,3} : \"abc\"}"
   ]
  },
  {
   "cell_type": "code",
   "execution_count": 29,
   "id": "5b491e1b-7cf5-4df7-96f2-ff41937b9a21",
   "metadata": {},
   "outputs": [
    {
     "ename": "TypeError",
     "evalue": "unhashable type: 'dict'",
     "output_type": "error",
     "traceback": [
      "\u001b[0;31m---------------------------------------------------------------------------\u001b[0m",
      "\u001b[0;31mTypeError\u001b[0m                                 Traceback (most recent call last)",
      "Cell \u001b[0;32mIn[29], line 1\u001b[0m\n\u001b[0;32m----> 1\u001b[0m d11 \u001b[38;5;241m=\u001b[39m {{\u001b[38;5;124m\"\u001b[39m\u001b[38;5;124mkey\u001b[39m\u001b[38;5;124m\"\u001b[39m : \u001b[38;5;241m123\u001b[39m} : \u001b[38;5;124m\"\u001b[39m\u001b[38;5;124mabc\u001b[39m\u001b[38;5;124m\"\u001b[39m}\n",
      "\u001b[0;31mTypeError\u001b[0m: unhashable type: 'dict'"
     ]
    }
   ],
   "source": [
    "d11 = {{\"key\" : 123} : \"abc\"}"
   ]
  },
  {
   "cell_type": "code",
   "execution_count": 30,
   "id": "8da05ea4-2354-4190-aad5-7aef3a4e3a3d",
   "metadata": {},
   "outputs": [],
   "source": [
    "d12 = {\"Course_name\" : [\"Data Science master\", \"web dev\", \"java with dsa and system design\"]}"
   ]
  },
  {
   "cell_type": "code",
   "execution_count": 31,
   "id": "7f996b3c-c071-49c5-bcce-4838a46b8084",
   "metadata": {},
   "outputs": [
    {
     "data": {
      "text/plain": [
       "{'Course_name': ['Data Science master',\n",
       "  'web dev',\n",
       "  'java with dsa and system design']}"
      ]
     },
     "execution_count": 31,
     "metadata": {},
     "output_type": "execute_result"
    }
   ],
   "source": [
    "d12"
   ]
  },
  {
   "cell_type": "code",
   "execution_count": 32,
   "id": "834f74a6-7256-4726-bbc7-1a726c2a12c6",
   "metadata": {},
   "outputs": [
    {
     "data": {
      "text/plain": [
       "{'key': (1, 2, 3, 4)}"
      ]
     },
     "execution_count": 32,
     "metadata": {},
     "output_type": "execute_result"
    }
   ],
   "source": [
    "d13 = {\"key\" : (1,2,3,4)}\n",
    "d13"
   ]
  },
  {
   "cell_type": "code",
   "execution_count": 33,
   "id": "4f517815-a6cb-4508-bfbf-a8379cc0b33b",
   "metadata": {},
   "outputs": [],
   "source": [
    "d14 = {\"key\" : {1,2,3,4}}"
   ]
  },
  {
   "cell_type": "code",
   "execution_count": 34,
   "id": "94ea965e-8ce2-4f90-a50e-a8202c33afba",
   "metadata": {},
   "outputs": [
    {
     "data": {
      "text/plain": [
       "{'key': {1, 2, 3, 4}}"
      ]
     },
     "execution_count": 34,
     "metadata": {},
     "output_type": "execute_result"
    }
   ],
   "source": [
    "d14"
   ]
  },
  {
   "cell_type": "code",
   "execution_count": 35,
   "id": "ea6c1f2e-dc3a-4691-8fa5-114a501f6914",
   "metadata": {},
   "outputs": [
    {
     "data": {
      "text/plain": [
       "{'key': {'name': 'madhu', 'class': 'dsm'}}"
      ]
     },
     "execution_count": 35,
     "metadata": {},
     "output_type": "execute_result"
    }
   ],
   "source": [
    "d15 = {\"key\" : {\"name\" : \"madhu\" , \"class\" : \"dsm\"}}\n",
    "d15"
   ]
  },
  {
   "cell_type": "code",
   "execution_count": 39,
   "id": "17f31a79-b301-4441-8c6e-2a23e05a7c45",
   "metadata": {},
   "outputs": [],
   "source": [
    "d16 = {\"batch_name\" : [\"data science masters\",\"web dev\",\"jds\"], \"start_date\":(28,14,21),\"mentor name\" : {\"krish naik\",\"sudhanshu\",\"hitesh\",\"anurag\"}}"
   ]
  },
  {
   "cell_type": "code",
   "execution_count": 40,
   "id": "c8022bc5-b662-4031-80e0-9cc872db4379",
   "metadata": {},
   "outputs": [
    {
     "data": {
      "text/plain": [
       "{'batch_name': ['data science masters', 'web dev', 'jds'],\n",
       " 'start_date': (28, 14, 21),\n",
       " 'mentor name': {'anurag', 'hitesh', 'krish naik', 'sudhanshu'}}"
      ]
     },
     "execution_count": 40,
     "metadata": {},
     "output_type": "execute_result"
    }
   ],
   "source": [
    "d16"
   ]
  },
  {
   "cell_type": "code",
   "execution_count": 42,
   "id": "2e5fdbce-42ab-47ec-b552-0b227f50bed3",
   "metadata": {},
   "outputs": [
    {
     "name": "stdout",
     "output_type": "stream",
     "text": [
      "hello\n"
     ]
    }
   ],
   "source": [
    "print(\"hello\")"
   ]
  },
  {
   "cell_type": "code",
   "execution_count": 43,
   "id": "69aa38b9-e24a-4101-8159-32e5a53e7b01",
   "metadata": {},
   "outputs": [],
   "source": [
    "## how to add new key and pair"
   ]
  },
  {
   "cell_type": "code",
   "execution_count": 44,
   "id": "ad9a8fea-8d51-40e8-b45a-6520fe485c6d",
   "metadata": {},
   "outputs": [],
   "source": [
    "d16[\"timming\"] = (8,8,8)"
   ]
  },
  {
   "cell_type": "code",
   "execution_count": 45,
   "id": "c7666c8d-8dec-45df-8750-73a69d6fd1e2",
   "metadata": {},
   "outputs": [
    {
     "data": {
      "text/plain": [
       "{'batch_name': ['data science masters', 'web dev', 'jds'],\n",
       " 'start_date': (28, 14, 21),\n",
       " 'mentor name': {'anurag', 'hitesh', 'krish naik', 'sudhanshu'},\n",
       " 'timming': (8, 8, 8)}"
      ]
     },
     "execution_count": 45,
     "metadata": {},
     "output_type": "execute_result"
    }
   ],
   "source": [
    "d16"
   ]
  },
  {
   "cell_type": "code",
   "execution_count": 46,
   "id": "00824444-0dd6-4722-840b-3772b2c392de",
   "metadata": {},
   "outputs": [],
   "source": [
    "## how to access the data from the dictionary"
   ]
  },
  {
   "cell_type": "code",
   "execution_count": 48,
   "id": "0201e96f-3a47-46ea-b7f1-5cd8ce889a57",
   "metadata": {},
   "outputs": [
    {
     "data": {
      "text/plain": [
       "['data science masters', 'web dev', 'jds']"
      ]
     },
     "execution_count": 48,
     "metadata": {},
     "output_type": "execute_result"
    }
   ],
   "source": [
    "d16['batch_name']"
   ]
  },
  {
   "cell_type": "code",
   "execution_count": 50,
   "id": "3a6832a5-ebf8-43b2-99ed-d966de3d6320",
   "metadata": {},
   "outputs": [
    {
     "data": {
      "text/plain": [
       "(28, 14, 21)"
      ]
     },
     "execution_count": 50,
     "metadata": {},
     "output_type": "execute_result"
    }
   ],
   "source": [
    "d16['start_date']"
   ]
  },
  {
   "cell_type": "code",
   "execution_count": 51,
   "id": "5f9b57b8-3d90-4c0e-9b36-d3cde2a7f826",
   "metadata": {},
   "outputs": [
    {
     "data": {
      "text/plain": [
       "list"
      ]
     },
     "execution_count": 51,
     "metadata": {},
     "output_type": "execute_result"
    }
   ],
   "source": [
    "type(d16['batch_name'])"
   ]
  },
  {
   "cell_type": "code",
   "execution_count": 52,
   "id": "02fa8dbe-1bde-4b1a-8f17-25c279621d02",
   "metadata": {},
   "outputs": [
    {
     "ename": "KeyError",
     "evalue": "'key'",
     "output_type": "error",
     "traceback": [
      "\u001b[0;31m---------------------------------------------------------------------------\u001b[0m",
      "\u001b[0;31mKeyError\u001b[0m                                  Traceback (most recent call last)",
      "Cell \u001b[0;32mIn[52], line 1\u001b[0m\n\u001b[0;32m----> 1\u001b[0m \u001b[43md16\u001b[49m\u001b[43m[\u001b[49m\u001b[38;5;124;43m'\u001b[39;49m\u001b[38;5;124;43mkey\u001b[39;49m\u001b[38;5;124;43m'\u001b[39;49m\u001b[43m]\u001b[49m\n",
      "\u001b[0;31mKeyError\u001b[0m: 'key'"
     ]
    }
   ],
   "source": [
    "d16['key']"
   ]
  },
  {
   "cell_type": "code",
   "execution_count": 53,
   "id": "22d6fef2-74b0-409a-8086-331de908e696",
   "metadata": {},
   "outputs": [],
   "source": [
    "d16['name'] = \"Ramachandra\""
   ]
  },
  {
   "cell_type": "code",
   "execution_count": 54,
   "id": "e0a0eed3-294c-4d83-ae18-9072a2046177",
   "metadata": {},
   "outputs": [
    {
     "data": {
      "text/plain": [
       "{'batch_name': ['data science masters', 'web dev', 'jds'],\n",
       " 'start_date': (28, 14, 21),\n",
       " 'mentor name': {'anurag', 'hitesh', 'krish naik', 'sudhanshu'},\n",
       " 'timming': (8, 8, 8),\n",
       " 'name': 'Ramachandra'}"
      ]
     },
     "execution_count": 54,
     "metadata": {},
     "output_type": "execute_result"
    }
   ],
   "source": [
    "d16"
   ]
  },
  {
   "cell_type": "code",
   "execution_count": 55,
   "id": "1c05db0a-a7ed-49c4-9299-6f02aef319e4",
   "metadata": {},
   "outputs": [
    {
     "data": {
      "text/plain": [
       "'Ramachandra'"
      ]
     },
     "execution_count": 55,
     "metadata": {},
     "output_type": "execute_result"
    }
   ],
   "source": [
    "d16[\"name\"]"
   ]
  },
  {
   "cell_type": "code",
   "execution_count": 56,
   "id": "995707a3-9549-44bd-a038-358c7559142d",
   "metadata": {},
   "outputs": [
    {
     "data": {
      "text/plain": [
       "'RAMACHANDRA'"
      ]
     },
     "execution_count": 56,
     "metadata": {},
     "output_type": "execute_result"
    }
   ],
   "source": [
    "d16[\"name\"].upper()"
   ]
  },
  {
   "cell_type": "code",
   "execution_count": 57,
   "id": "b6a5ec38-f38b-4425-9a40-b9980a5818cf",
   "metadata": {},
   "outputs": [
    {
     "data": {
      "text/plain": [
       "{'key': {'name': 'madhu', 'class': 'dsm'}}"
      ]
     },
     "execution_count": 57,
     "metadata": {},
     "output_type": "execute_result"
    }
   ],
   "source": [
    "d15"
   ]
  },
  {
   "cell_type": "code",
   "execution_count": 58,
   "id": "48ba7f62-72bd-4bb3-90fb-817fe9818347",
   "metadata": {},
   "outputs": [
    {
     "data": {
      "text/plain": [
       "{'name': 'madhu', 'class': 'dsm'}"
      ]
     },
     "execution_count": 58,
     "metadata": {},
     "output_type": "execute_result"
    }
   ],
   "source": [
    "d15['key']"
   ]
  },
  {
   "cell_type": "code",
   "execution_count": 59,
   "id": "5f9865e7-5f73-4f90-8cd3-bc701a5710c6",
   "metadata": {},
   "outputs": [
    {
     "data": {
      "text/plain": [
       "'madhu'"
      ]
     },
     "execution_count": 59,
     "metadata": {},
     "output_type": "execute_result"
    }
   ],
   "source": [
    "d15['key']['name']"
   ]
  },
  {
   "cell_type": "code",
   "execution_count": 62,
   "id": "86572068-6cc6-4819-98d8-84e9c60b1c03",
   "metadata": {},
   "outputs": [
    {
     "data": {
      "text/plain": [
       "'DSM'"
      ]
     },
     "execution_count": 62,
     "metadata": {},
     "output_type": "execute_result"
    }
   ],
   "source": [
    "d15['key']['class'].upper()"
   ]
  },
  {
   "cell_type": "code",
   "execution_count": 63,
   "id": "b49310ea-2def-4eb3-b7f6-03d6045dd6cc",
   "metadata": {},
   "outputs": [],
   "source": [
    "d15['key1'] = 'abc'"
   ]
  },
  {
   "cell_type": "code",
   "execution_count": 64,
   "id": "52ac4916-892f-4c52-8432-39869c053ea9",
   "metadata": {},
   "outputs": [
    {
     "data": {
      "text/plain": [
       "{'key': {'name': 'madhu', 'class': 'dsm'}, 'key1': 'abc'}"
      ]
     },
     "execution_count": 64,
     "metadata": {},
     "output_type": "execute_result"
    }
   ],
   "source": [
    "d15"
   ]
  },
  {
   "cell_type": "code",
   "execution_count": 66,
   "id": "0ddd80fc-def8-4eba-a37f-4db5ab4e87ce",
   "metadata": {},
   "outputs": [],
   "source": [
    "del d15[\"key1\"]"
   ]
  },
  {
   "cell_type": "code",
   "execution_count": 67,
   "id": "b9a31abc-9a48-4084-9207-80ef3a12b3cc",
   "metadata": {},
   "outputs": [
    {
     "data": {
      "text/plain": [
       "{'key': {'name': 'madhu', 'class': 'dsm'}}"
      ]
     },
     "execution_count": 67,
     "metadata": {},
     "output_type": "execute_result"
    }
   ],
   "source": [
    "d15"
   ]
  },
  {
   "cell_type": "code",
   "execution_count": 68,
   "id": "c47cbf4b-558e-4fb0-9c59-0eec59fed7ef",
   "metadata": {},
   "outputs": [],
   "source": [
    "d15.clear()"
   ]
  },
  {
   "cell_type": "code",
   "execution_count": 69,
   "id": "d17542f5-ca3c-4788-9b14-bf29fbb04e63",
   "metadata": {},
   "outputs": [
    {
     "data": {
      "text/plain": [
       "{}"
      ]
     },
     "execution_count": 69,
     "metadata": {},
     "output_type": "execute_result"
    }
   ],
   "source": [
    "d15"
   ]
  },
  {
   "cell_type": "code",
   "execution_count": 70,
   "id": "e1f3ff3d-f4be-43f2-b7ea-15eb829bc10a",
   "metadata": {},
   "outputs": [
    {
     "data": {
      "text/plain": [
       "5"
      ]
     },
     "execution_count": 70,
     "metadata": {},
     "output_type": "execute_result"
    }
   ],
   "source": [
    "len(d16)"
   ]
  },
  {
   "cell_type": "code",
   "execution_count": 72,
   "id": "58eadce3-46a7-4cae-85f7-94f3381c6ce8",
   "metadata": {},
   "outputs": [
    {
     "data": {
      "text/plain": [
       "{'batch_name': ['data science masters', 'web dev', 'jds'],\n",
       " 'start_date': (28, 14, 21),\n",
       " 'mentor name': {'anurag', 'hitesh', 'krish naik', 'sudhanshu'},\n",
       " 'timming': (8, 8, 8),\n",
       " 'name': 'Ramachandra'}"
      ]
     },
     "execution_count": 72,
     "metadata": {},
     "output_type": "execute_result"
    }
   ],
   "source": [
    "d16"
   ]
  },
  {
   "cell_type": "code",
   "execution_count": 73,
   "id": "47835e08-2ef3-456c-a061-33097c2f95ec",
   "metadata": {},
   "outputs": [
    {
     "data": {
      "text/plain": [
       "dict_keys(['batch_name', 'start_date', 'mentor name', 'timming', 'name'])"
      ]
     },
     "execution_count": 73,
     "metadata": {},
     "output_type": "execute_result"
    }
   ],
   "source": [
    "## Extract the complete keys:\n",
    "d16.keys()"
   ]
  },
  {
   "cell_type": "code",
   "execution_count": 75,
   "id": "e8ff6b8a-91cf-41ae-ba2b-6a725d32269f",
   "metadata": {},
   "outputs": [
    {
     "data": {
      "text/plain": [
       "dict_values([['data science masters', 'web dev', 'jds'], (28, 14, 21), {'anurag', 'hitesh', 'sudhanshu', 'krish naik'}, (8, 8, 8), 'Ramachandra'])"
      ]
     },
     "execution_count": 75,
     "metadata": {},
     "output_type": "execute_result"
    }
   ],
   "source": [
    "## extract the values\n",
    "d16.values()"
   ]
  },
  {
   "cell_type": "code",
   "execution_count": 77,
   "id": "d04505cf-9e8a-443e-b637-b8ebfebaaa24",
   "metadata": {},
   "outputs": [
    {
     "data": {
      "text/plain": [
       "[['data science masters', 'web dev', 'jds'],\n",
       " (28, 14, 21),\n",
       " {'anurag', 'hitesh', 'krish naik', 'sudhanshu'},\n",
       " (8, 8, 8),\n",
       " 'Ramachandra']"
      ]
     },
     "execution_count": 77,
     "metadata": {},
     "output_type": "execute_result"
    }
   ],
   "source": [
    "list(d16.values())"
   ]
  },
  {
   "cell_type": "code",
   "execution_count": 78,
   "id": "2c47d219-421b-4d87-8aa7-72b835baef2f",
   "metadata": {},
   "outputs": [
    {
     "data": {
      "text/plain": [
       "['batch_name', 'start_date', 'mentor name', 'timming', 'name']"
      ]
     },
     "execution_count": 78,
     "metadata": {},
     "output_type": "execute_result"
    }
   ],
   "source": [
    "list(d16.keys())"
   ]
  },
  {
   "cell_type": "code",
   "execution_count": 79,
   "id": "d1851635-8ee0-437e-a780-af3b3bd85ea3",
   "metadata": {},
   "outputs": [
    {
     "data": {
      "text/plain": [
       "dict_items([('batch_name', ['data science masters', 'web dev', 'jds']), ('start_date', (28, 14, 21)), ('mentor name', {'anurag', 'hitesh', 'sudhanshu', 'krish naik'}), ('timming', (8, 8, 8)), ('name', 'Ramachandra')])"
      ]
     },
     "execution_count": 79,
     "metadata": {},
     "output_type": "execute_result"
    }
   ],
   "source": [
    "d16.items()"
   ]
  },
  {
   "cell_type": "code",
   "execution_count": 81,
   "id": "543e1112-702f-459d-8587-686c21929279",
   "metadata": {},
   "outputs": [
    {
     "data": {
      "text/plain": [
       "[('batch_name', ['data science masters', 'web dev', 'jds']),\n",
       " ('start_date', (28, 14, 21)),\n",
       " ('mentor name', {'anurag', 'hitesh', 'krish naik', 'sudhanshu'}),\n",
       " ('timming', (8, 8, 8)),\n",
       " ('name', 'Ramachandra')]"
      ]
     },
     "execution_count": 81,
     "metadata": {},
     "output_type": "execute_result"
    }
   ],
   "source": [
    "list(d16.items())"
   ]
  },
  {
   "cell_type": "code",
   "execution_count": 82,
   "id": "bb74a1fb-d3ce-40e6-8949-060390657793",
   "metadata": {},
   "outputs": [
    {
     "data": {
      "text/plain": [
       "{'batch_name': ['data science masters', 'web dev', 'jds'],\n",
       " 'start_date': (28, 14, 21),\n",
       " 'mentor name': {'anurag', 'hitesh', 'krish naik', 'sudhanshu'},\n",
       " 'timming': (8, 8, 8),\n",
       " 'name': 'Ramachandra'}"
      ]
     },
     "execution_count": 82,
     "metadata": {},
     "output_type": "execute_result"
    }
   ],
   "source": [
    "d16"
   ]
  },
  {
   "cell_type": "code",
   "execution_count": 83,
   "id": "374c0110-16d8-4c16-9299-765513031616",
   "metadata": {},
   "outputs": [],
   "source": [
    "d17 = d16.copy()"
   ]
  },
  {
   "cell_type": "code",
   "execution_count": 84,
   "id": "514de3ce-867e-449b-bd3c-b6caf681ed46",
   "metadata": {},
   "outputs": [
    {
     "data": {
      "text/plain": [
       "140604557780480"
      ]
     },
     "execution_count": 84,
     "metadata": {},
     "output_type": "execute_result"
    }
   ],
   "source": [
    "id(d16)"
   ]
  },
  {
   "cell_type": "code",
   "execution_count": 85,
   "id": "30cde856-5ad6-4e36-bfc3-c51c6fcabd00",
   "metadata": {},
   "outputs": [
    {
     "data": {
      "text/plain": [
       "140604209452736"
      ]
     },
     "execution_count": 85,
     "metadata": {},
     "output_type": "execute_result"
    }
   ],
   "source": [
    "id(d17)"
   ]
  },
  {
   "cell_type": "code",
   "execution_count": 86,
   "id": "115a1c50-9d9e-4143-893f-9ab0e1b089f1",
   "metadata": {},
   "outputs": [
    {
     "data": {
      "text/plain": [
       "{'batch_name': ['data science masters', 'web dev', 'jds'],\n",
       " 'start_date': (28, 14, 21),\n",
       " 'mentor name': {'anurag', 'hitesh', 'krish naik', 'sudhanshu'},\n",
       " 'timming': (8, 8, 8),\n",
       " 'name': 'Ramachandra'}"
      ]
     },
     "execution_count": 86,
     "metadata": {},
     "output_type": "execute_result"
    }
   ],
   "source": [
    "d17"
   ]
  },
  {
   "cell_type": "code",
   "execution_count": 87,
   "id": "9491da14-23ad-424f-80c7-a6b8de2c7e30",
   "metadata": {},
   "outputs": [],
   "source": [
    " del d16['name']"
   ]
  },
  {
   "cell_type": "code",
   "execution_count": 88,
   "id": "8496035d-6964-46e8-97d8-68143553966a",
   "metadata": {},
   "outputs": [
    {
     "data": {
      "text/plain": [
       "{'batch_name': ['data science masters', 'web dev', 'jds'],\n",
       " 'start_date': (28, 14, 21),\n",
       " 'mentor name': {'anurag', 'hitesh', 'krish naik', 'sudhanshu'},\n",
       " 'timming': (8, 8, 8)}"
      ]
     },
     "execution_count": 88,
     "metadata": {},
     "output_type": "execute_result"
    }
   ],
   "source": [
    "d16"
   ]
  },
  {
   "cell_type": "code",
   "execution_count": 89,
   "id": "36d99f25-f1e5-440b-bad4-491add52574d",
   "metadata": {},
   "outputs": [
    {
     "data": {
      "text/plain": [
       "{'batch_name': ['data science masters', 'web dev', 'jds'],\n",
       " 'start_date': (28, 14, 21),\n",
       " 'mentor name': {'anurag', 'hitesh', 'krish naik', 'sudhanshu'},\n",
       " 'timming': (8, 8, 8),\n",
       " 'name': 'Ramachandra'}"
      ]
     },
     "execution_count": 89,
     "metadata": {},
     "output_type": "execute_result"
    }
   ],
   "source": [
    "d17"
   ]
  },
  {
   "cell_type": "code",
   "execution_count": 91,
   "id": "c42d40ce-6825-4316-9891-015fcc7a347e",
   "metadata": {},
   "outputs": [],
   "source": [
    "d18 = d16"
   ]
  },
  {
   "cell_type": "code",
   "execution_count": 93,
   "id": "fe6e5358-6b3e-4e16-9c46-538cf1420807",
   "metadata": {},
   "outputs": [],
   "source": [
    "del d16['batch_name']"
   ]
  },
  {
   "cell_type": "code",
   "execution_count": 98,
   "id": "0e5f5c75-e4a9-414e-b17d-744a9abbe084",
   "metadata": {},
   "outputs": [
    {
     "data": {
      "text/plain": [
       "{'start_date': (28, 14, 21),\n",
       " 'mentor name': {'anurag', 'hitesh', 'krish naik', 'sudhanshu'},\n",
       " 'timming': (8, 8, 8)}"
      ]
     },
     "execution_count": 98,
     "metadata": {},
     "output_type": "execute_result"
    }
   ],
   "source": [
    "d18\n",
    "id(d18)\n",
    "d18"
   ]
  },
  {
   "cell_type": "code",
   "execution_count": 99,
   "id": "014f557d-6314-4d6c-8719-6d110b05d69d",
   "metadata": {},
   "outputs": [
    {
     "data": {
      "text/plain": [
       "{'start_date': (28, 14, 21),\n",
       " 'mentor name': {'anurag', 'hitesh', 'krish naik', 'sudhanshu'},\n",
       " 'timming': (8, 8, 8)}"
      ]
     },
     "execution_count": 99,
     "metadata": {},
     "output_type": "execute_result"
    }
   ],
   "source": [
    "d16\n",
    "id(d16)\n",
    "d16"
   ]
  },
  {
   "cell_type": "code",
   "execution_count": 100,
   "id": "123c4809-5b6b-4c2c-8c39-ddced6b3c308",
   "metadata": {},
   "outputs": [
    {
     "data": {
      "text/plain": [
       "{'start_date': (28, 14, 21),\n",
       " 'mentor name': {'anurag', 'hitesh', 'krish naik', 'sudhanshu'},\n",
       " 'timming': (8, 8, 8)}"
      ]
     },
     "execution_count": 100,
     "metadata": {},
     "output_type": "execute_result"
    }
   ],
   "source": [
    "d16"
   ]
  },
  {
   "cell_type": "code",
   "execution_count": 102,
   "id": "1a2c24c3-fca3-4a16-b204-b204aa441887",
   "metadata": {},
   "outputs": [
    {
     "data": {
      "text/plain": [
       "(28, 14, 21)"
      ]
     },
     "execution_count": 102,
     "metadata": {},
     "output_type": "execute_result"
    }
   ],
   "source": [
    "d16.pop('start_date')"
   ]
  },
  {
   "cell_type": "code",
   "execution_count": 103,
   "id": "90b646ef-1a90-49ca-8f5b-b23885b93eb6",
   "metadata": {},
   "outputs": [
    {
     "data": {
      "text/plain": [
       "{'mentor name': {'anurag', 'hitesh', 'krish naik', 'sudhanshu'},\n",
       " 'timming': (8, 8, 8)}"
      ]
     },
     "execution_count": 103,
     "metadata": {},
     "output_type": "execute_result"
    }
   ],
   "source": [
    "d16"
   ]
  },
  {
   "cell_type": "code",
   "execution_count": 104,
   "id": "854349c9-d990-4415-b814-f0e41b122018",
   "metadata": {},
   "outputs": [
    {
     "data": {
      "text/plain": [
       "{1: {'a', 'b', 'c'}, 2: {'a', 'b', 'c'}, 3: {'a', 'b', 'c'}}"
      ]
     },
     "execution_count": 104,
     "metadata": {},
     "output_type": "execute_result"
    }
   ],
   "source": [
    "d.fromkeys((1,2,3), {'a','b','c'})"
   ]
  },
  {
   "cell_type": "code",
   "execution_count": 105,
   "id": "c306e57f-4449-4d7f-926c-616cb5c045e9",
   "metadata": {},
   "outputs": [],
   "source": [
    "d19 = {'key1' : \"value\",\"key2\" : \"value2\"}\n",
    "d20 = {'key3' : 'value3',\"key4\" : \"value4\"}"
   ]
  },
  {
   "cell_type": "code",
   "execution_count": 106,
   "id": "2f11553a-e7e5-47f5-9ae1-ba1734e7bb5e",
   "metadata": {},
   "outputs": [
    {
     "data": {
      "text/plain": [
       "({'key1': 'value', 'key2': 'value2'}, {'key3': 'value3', 'key4': 'value4'})"
      ]
     },
     "execution_count": 106,
     "metadata": {},
     "output_type": "execute_result"
    }
   ],
   "source": [
    "(d19,d20)"
   ]
  },
  {
   "cell_type": "code",
   "execution_count": 107,
   "id": "5c70cce1-8b74-4af5-956c-07942de0ac35",
   "metadata": {},
   "outputs": [],
   "source": [
    "d19.update(d20)"
   ]
  },
  {
   "cell_type": "code",
   "execution_count": 108,
   "id": "b2d39ba5-bf82-4791-897d-e0ee51778b37",
   "metadata": {},
   "outputs": [
    {
     "data": {
      "text/plain": [
       "{'key1': 'value', 'key2': 'value2', 'key3': 'value3', 'key4': 'value4'}"
      ]
     },
     "execution_count": 108,
     "metadata": {},
     "output_type": "execute_result"
    }
   ],
   "source": [
    "d19"
   ]
  },
  {
   "cell_type": "code",
   "execution_count": 109,
   "id": "aead6188-639e-46b1-b515-3e00611a0c71",
   "metadata": {},
   "outputs": [
    {
     "data": {
      "text/plain": [
       "{'key3': 'value3', 'key4': 'value4'}"
      ]
     },
     "execution_count": 109,
     "metadata": {},
     "output_type": "execute_result"
    }
   ],
   "source": [
    "d20"
   ]
  },
  {
   "cell_type": "code",
   "execution_count": 110,
   "id": "060ee07f-6c67-4c06-b0d1-324069564e8c",
   "metadata": {},
   "outputs": [],
   "source": [
    "d20.update(d19)"
   ]
  },
  {
   "cell_type": "code",
   "execution_count": 111,
   "id": "589b80a0-9c89-48e6-89c9-7ebe5b3e6dfe",
   "metadata": {},
   "outputs": [
    {
     "data": {
      "text/plain": [
       "{'key3': 'value3', 'key4': 'value4', 'key1': 'value', 'key2': 'value2'}"
      ]
     },
     "execution_count": 111,
     "metadata": {},
     "output_type": "execute_result"
    }
   ],
   "source": [
    "d20"
   ]
  },
  {
   "cell_type": "code",
   "execution_count": 112,
   "id": "a712fb62-ccb3-40b4-91e2-a46c0665f0c1",
   "metadata": {},
   "outputs": [
    {
     "data": {
      "text/plain": [
       "'value3'"
      ]
     },
     "execution_count": 112,
     "metadata": {},
     "output_type": "execute_result"
    }
   ],
   "source": [
    "d20.get('key3')"
   ]
  },
  {
   "cell_type": "code",
   "execution_count": 113,
   "id": "e2c920a1-4933-4871-98a8-83d7acb0d738",
   "metadata": {},
   "outputs": [
    {
     "data": {
      "text/plain": [
       "'value3'"
      ]
     },
     "execution_count": 113,
     "metadata": {},
     "output_type": "execute_result"
    }
   ],
   "source": [
    "d20.get('key3')"
   ]
  },
  {
   "cell_type": "code",
   "execution_count": 114,
   "id": "877195b1-e00a-4b2b-855c-5224c2a160d1",
   "metadata": {},
   "outputs": [],
   "source": [
    "### Dcitionary Comphresion"
   ]
  },
  {
   "cell_type": "code",
   "execution_count": 116,
   "id": "149b5b04-f27c-4b1e-a483-5070e34d366e",
   "metadata": {},
   "outputs": [
    {
     "data": {
      "text/plain": [
       "{1: 1, 2: 4, 3: 9, 4: 16, 5: 25, 6: 36, 7: 49, 8: 64, 9: 81, 10: 100}"
      ]
     },
     "execution_count": 116,
     "metadata": {},
     "output_type": "execute_result"
    }
   ],
   "source": [
    "{i: i**2 for i in range(1,11)}"
   ]
  },
  {
   "cell_type": "code",
   "execution_count": 117,
   "id": "dd6c5da3-ec8a-45bf-8c99-04cb0e670018",
   "metadata": {},
   "outputs": [
    {
     "data": {
      "text/plain": [
       "{1: 2, 2: 4, 3: 6, 4: 8, 5: 10, 6: 12, 7: 14, 8: 16, 9: 18, 10: 20}"
      ]
     },
     "execution_count": 117,
     "metadata": {},
     "output_type": "execute_result"
    }
   ],
   "source": [
    "{i: i*2 for i in range(1,11)}"
   ]
  },
  {
   "cell_type": "code",
   "execution_count": 118,
   "id": "541a4689-35fe-482d-a15d-1177a4ce8c23",
   "metadata": {},
   "outputs": [
    {
     "data": {
      "text/plain": [
       "{1: 0.0,\n",
       " 2: 0.3010299956639812,\n",
       " 3: 0.47712125471966244,\n",
       " 4: 0.6020599913279624,\n",
       " 5: 0.6989700043360189,\n",
       " 6: 0.7781512503836436,\n",
       " 7: 0.8450980400142568,\n",
       " 8: 0.9030899869919435,\n",
       " 9: 0.9542425094393249,\n",
       " 10: 1.0}"
      ]
     },
     "execution_count": 118,
     "metadata": {},
     "output_type": "execute_result"
    }
   ],
   "source": [
    "import math\n",
    "{i :math.log10(i) for i in range(1,11)}\n"
   ]
  },
  {
   "cell_type": "code",
   "execution_count": 119,
   "id": "df15ea13-5c25-439b-819a-ccb532ff134b",
   "metadata": {},
   "outputs": [
    {
     "data": {
      "text/plain": [
       "{'mentor name': {'anurag', 'hitesh', 'krish naik', 'sudhanshu'},\n",
       " 'timming': (8, 8, 8)}"
      ]
     },
     "execution_count": 119,
     "metadata": {},
     "output_type": "execute_result"
    }
   ],
   "source": [
    "d16"
   ]
  },
  {
   "cell_type": "code",
   "execution_count": 121,
   "id": "715c6b06-9283-4d80-afde-ab24ae952b50",
   "metadata": {},
   "outputs": [
    {
     "data": {
      "text/plain": [
       "False"
      ]
     },
     "execution_count": 121,
     "metadata": {},
     "output_type": "execute_result"
    }
   ],
   "source": [
    "'batch_name' in d16"
   ]
  },
  {
   "cell_type": "code",
   "execution_count": null,
   "id": "797152dd-6de1-4110-902f-53066ce96233",
   "metadata": {},
   "outputs": [],
   "source": []
  },
  {
   "cell_type": "code",
   "execution_count": null,
   "id": "258994b5-ec50-41d3-89c0-a1baebcd1927",
   "metadata": {},
   "outputs": [],
   "source": []
  },
  {
   "cell_type": "code",
   "execution_count": null,
   "id": "b1e0551f-c908-4405-a8b5-23bb8861a1c6",
   "metadata": {},
   "outputs": [],
   "source": []
  },
  {
   "cell_type": "code",
   "execution_count": null,
   "id": "5cf08fcd-0afa-40d9-8c95-78c4c60deee7",
   "metadata": {},
   "outputs": [],
   "source": []
  },
  {
   "cell_type": "code",
   "execution_count": null,
   "id": "10042ff1-2484-4b59-87b4-f232f2c2904a",
   "metadata": {},
   "outputs": [],
   "source": []
  }
 ],
 "metadata": {
  "kernelspec": {
   "display_name": "Python 3 (ipykernel)",
   "language": "python",
   "name": "python3"
  },
  "language_info": {
   "codemirror_mode": {
    "name": "ipython",
    "version": 3
   },
   "file_extension": ".py",
   "mimetype": "text/x-python",
   "name": "python",
   "nbconvert_exporter": "python",
   "pygments_lexer": "ipython3",
   "version": "3.10.8"
  }
 },
 "nbformat": 4,
 "nbformat_minor": 5
}
