{
 "cells": [
  {
   "cell_type": "code",
   "execution_count": 1,
   "id": "a619ed1f-a0f6-4bfa-a052-b998190e2bd5",
   "metadata": {},
   "outputs": [],
   "source": [
    "## What are the charactersitcs of tuple ? Is tuple is immutable?"
   ]
  },
  {
   "cell_type": "markdown",
   "id": "fa0997c0-5684-4ec7-a5d6-2625158a4649",
   "metadata": {},
   "source": [
    "##### Characterstics of tuple:-\n",
    "###### Tuple is exactly same as list but tuple is immutable \n",
    "###### why because once we create a tuple the tuple object, We cannot perform any changes in that object\n",
    "###### If our data is fixed and nerver changes then we should go for Tuple\n",
    "###### Insertion order is preserved\n",
    "###### Duplicates are allowed\n",
    "###### Allows duplicated.\n"
   ]
  },
  {
   "cell_type": "code",
   "execution_count": 2,
   "id": "41407e5f-473b-415e-9d3b-f3cf027a4e29",
   "metadata": {},
   "outputs": [],
   "source": [
    "## What are the tuple methods in python ?"
   ]
  },
  {
   "cell_type": "markdown",
   "id": "91ef71a1-abe7-4c87-a190-c5d0e587bf43",
   "metadata": {},
   "source": [
    "##### Tuple has methods like len and count sorted min() max() "
   ]
  },
  {
   "cell_type": "code",
   "execution_count": 3,
   "id": "74813dc6-5982-4480-b793-5231dd818eae",
   "metadata": {},
   "outputs": [
    {
     "name": "stdout",
     "output_type": "stream",
     "text": [
      "<class 'tuple'>\n"
     ]
    }
   ],
   "source": [
    "a = (10,20,30)\n",
    "print(type(a))"
   ]
  },
  {
   "cell_type": "code",
   "execution_count": 5,
   "id": "cfbd0254-0535-41b2-953c-684a30fa67bd",
   "metadata": {},
   "outputs": [
    {
     "name": "stdout",
     "output_type": "stream",
     "text": [
      "3\n"
     ]
    }
   ],
   "source": [
    "print(len(a))"
   ]
  },
  {
   "cell_type": "code",
   "execution_count": 8,
   "id": "034aa8c1-9de1-4c05-ac87-ba632831496b",
   "metadata": {},
   "outputs": [
    {
     "name": "stdout",
     "output_type": "stream",
     "text": [
      "1\n"
     ]
    }
   ],
   "source": [
    "print(a.count(10))"
   ]
  },
  {
   "cell_type": "code",
   "execution_count": 11,
   "id": "1f7c2bdf-5dd6-4104-9d56-6b35330e101d",
   "metadata": {},
   "outputs": [],
   "source": [
    "b = (10,40,50,30,20)\n",
    "c = sorted(b)"
   ]
  },
  {
   "cell_type": "code",
   "execution_count": 12,
   "id": "5822dfb3-f4f5-463d-bf99-b53836a68bce",
   "metadata": {},
   "outputs": [
    {
     "data": {
      "text/plain": [
       "[10, 20, 30, 40, 50]"
      ]
     },
     "execution_count": 12,
     "metadata": {},
     "output_type": "execute_result"
    }
   ],
   "source": [
    "c"
   ]
  },
  {
   "cell_type": "code",
   "execution_count": 13,
   "id": "5ad2e24e-9512-4b91-97fe-bc50131ed75f",
   "metadata": {},
   "outputs": [
    {
     "name": "stdout",
     "output_type": "stream",
     "text": [
      "10\n"
     ]
    }
   ],
   "source": [
    "print(min(b))"
   ]
  },
  {
   "cell_type": "code",
   "execution_count": 14,
   "id": "5a8e983a-3fb6-4ace-ac10-3940274821d3",
   "metadata": {},
   "outputs": [
    {
     "name": "stdout",
     "output_type": "stream",
     "text": [
      "50\n"
     ]
    }
   ],
   "source": [
    "print(max(b))"
   ]
  },
  {
   "cell_type": "code",
   "execution_count": 15,
   "id": "79e14b06-3d2a-40c2-ae5f-792ebc783005",
   "metadata": {},
   "outputs": [],
   "source": [
    "###Which collection datatypes in python do not allow duplicate items? Write a code using a set to remove\n",
    "##duplicates from the given list."
   ]
  },
  {
   "cell_type": "markdown",
   "id": "ba5754a7-8c52-459f-8acb-d59d1a1b9dc3",
   "metadata": {},
   "source": [
    "List = [1, 1, 1, 2, 1, 3, 1, 4, 2, 1, 2, 2, 2, 3, 2, 4, 3, 1, 3, 2, 3, 3, 3, 4, 4, 1, 4, 2, 4, 3, 4, 4]"
   ]
  },
  {
   "cell_type": "code",
   "execution_count": 16,
   "id": "eecc902b-168f-4603-935f-ce54bb73671f",
   "metadata": {},
   "outputs": [],
   "source": [
    "## Set Data Structure"
   ]
  },
  {
   "cell_type": "markdown",
   "id": "171ae31e-a4b0-4479-acea-a48347aace73",
   "metadata": {},
   "source": [
    "##### If we want to represent a group of unique values as a single entity then w eshould go for se\n",
    "##### Duplicates are not allowed\n",
    "##### Insertion order is not preserved\n",
    "##### Hetergeneous elements are allowed \n"
   ]
  },
  {
   "cell_type": "code",
   "execution_count": 17,
   "id": "1ea43cd5-b39e-4b54-abdd-a0d78bc6dfd6",
   "metadata": {},
   "outputs": [],
   "source": [
    "list = [1, 1, 1, 2, 1, 3, 1, 4, 2, 1, 2, 2, 2, 3, 2, 4, 3, 1, 3, 2, 3, 3, 3, 4, 4, 1, 4, 2, 4, 3, 4, 4]"
   ]
  },
  {
   "cell_type": "code",
   "execution_count": 18,
   "id": "5cae277e-838a-41ba-bf14-672bda0f93a4",
   "metadata": {},
   "outputs": [
    {
     "data": {
      "text/plain": [
       "{1, 2, 3, 4}"
      ]
     },
     "execution_count": 18,
     "metadata": {},
     "output_type": "execute_result"
    }
   ],
   "source": [
    "set(list)"
   ]
  },
  {
   "cell_type": "code",
   "execution_count": 20,
   "id": "84f97242-8425-402c-bebe-507826d2aea0",
   "metadata": {},
   "outputs": [],
   "source": [
    "##Explain the difference between the union() and update() methods for a set. Give an example of\n",
    "#each method."
   ]
  },
  {
   "cell_type": "markdown",
   "id": "b2f6bbbf-35b0-4395-a3d7-52268803df24",
   "metadata": {},
   "source": [
    "###### The main difference between the union() and update() methods for a set is \n",
    "###### union is just like the mathematical operator it combines the all elements form the sets \n",
    "###### Eg"
   ]
  },
  {
   "cell_type": "code",
   "execution_count": 21,
   "id": "e1302435-9645-4539-9605-84aa4e0e7a24",
   "metadata": {},
   "outputs": [
    {
     "name": "stdout",
     "output_type": "stream",
     "text": [
      "<class 'set'>\n"
     ]
    }
   ],
   "source": [
    "a = {1,2,3,4,5}\n",
    "print(type(a))"
   ]
  },
  {
   "cell_type": "code",
   "execution_count": 22,
   "id": "0bb7ce4b-3af4-4822-82ee-abc96ec71033",
   "metadata": {},
   "outputs": [],
   "source": [
    "b = {4,5,6,7,8,9}"
   ]
  },
  {
   "cell_type": "code",
   "execution_count": 23,
   "id": "d5f9c576-5ed2-4950-b801-7cc11fd8993a",
   "metadata": {},
   "outputs": [
    {
     "data": {
      "text/plain": [
       "{1, 2, 3, 4, 5, 6, 7, 8, 9}"
      ]
     },
     "execution_count": 23,
     "metadata": {},
     "output_type": "execute_result"
    }
   ],
   "source": [
    "a.union(b)"
   ]
  },
  {
   "cell_type": "code",
   "execution_count": 24,
   "id": "751d6be2-03fb-4acd-9e00-936bce2c69fb",
   "metadata": {},
   "outputs": [
    {
     "data": {
      "text/plain": [
       "{1, 2, 3, 4, 5, 6, 7, 8, 9}"
      ]
     },
     "execution_count": 24,
     "metadata": {},
     "output_type": "execute_result"
    }
   ],
   "source": [
    "b.union(a)"
   ]
  },
  {
   "cell_type": "code",
   "execution_count": 25,
   "id": "6881ad9e-acdf-42e4-9274-be2b723c0744",
   "metadata": {},
   "outputs": [],
   "source": [
    "## update"
   ]
  },
  {
   "cell_type": "markdown",
   "id": "387a1a49-6936-4276-9efc-56456c265a31",
   "metadata": {},
   "source": [
    "##### To add multiple items to the set\n",
    "##### Arguments are not individual elemets and these are iterable objects like list,range etc..\n",
    "##### All elements present in the given iterable will be added to the set."
   ]
  },
  {
   "cell_type": "code",
   "execution_count": 30,
   "id": "2a5f3148-29d0-4398-a796-e4e50bc465aa",
   "metadata": {},
   "outputs": [],
   "source": [
    "a.update(b)"
   ]
  },
  {
   "cell_type": "code",
   "execution_count": 31,
   "id": "9452263a-640e-4159-aa29-06d4c5c182d0",
   "metadata": {},
   "outputs": [
    {
     "data": {
      "text/plain": [
       "{1, 2, 3, 4, 5, 6, 7, 8, 9}"
      ]
     },
     "execution_count": 31,
     "metadata": {},
     "output_type": "execute_result"
    }
   ],
   "source": [
    "a"
   ]
  },
  {
   "cell_type": "code",
   "execution_count": 32,
   "id": "22ee86b6-df00-4294-b687-9cb9894c19c0",
   "metadata": {},
   "outputs": [],
   "source": [
    "l = [111,222,333,444]"
   ]
  },
  {
   "cell_type": "code",
   "execution_count": 33,
   "id": "185d4eb9-0a21-4144-b6e5-b8df655b773f",
   "metadata": {},
   "outputs": [],
   "source": [
    "a.update(l)"
   ]
  },
  {
   "cell_type": "code",
   "execution_count": 34,
   "id": "c352e7d0-b9cb-4cfd-839a-2e06635ca6fc",
   "metadata": {},
   "outputs": [
    {
     "data": {
      "text/plain": [
       "{1, 2, 3, 4, 5, 6, 7, 8, 9, 111, 222, 333, 444}"
      ]
     },
     "execution_count": 34,
     "metadata": {},
     "output_type": "execute_result"
    }
   ],
   "source": [
    "a"
   ]
  },
  {
   "cell_type": "code",
   "execution_count": 35,
   "id": "9d3a906e-d6b5-4744-8c80-2a0191b44597",
   "metadata": {},
   "outputs": [],
   "source": [
    "b.update(a)"
   ]
  },
  {
   "cell_type": "code",
   "execution_count": 36,
   "id": "4f26713e-5054-48e0-ae8a-f0c3d36529d2",
   "metadata": {},
   "outputs": [
    {
     "data": {
      "text/plain": [
       "{1, 2, 3, 4, 5, 6, 7, 8, 9, 111, 222, 333, 444}"
      ]
     },
     "execution_count": 36,
     "metadata": {},
     "output_type": "execute_result"
    }
   ],
   "source": [
    "b"
   ]
  },
  {
   "cell_type": "code",
   "execution_count": 37,
   "id": "71d78f08-f780-4e93-9528-43b3a3bd244c",
   "metadata": {},
   "outputs": [],
   "source": [
    "b.update(l)"
   ]
  },
  {
   "cell_type": "code",
   "execution_count": 38,
   "id": "cf7d7f35-58b3-46ae-bbce-2195933229e7",
   "metadata": {},
   "outputs": [
    {
     "data": {
      "text/plain": [
       "{1, 2, 3, 4, 5, 6, 7, 8, 9, 111, 222, 333, 444}"
      ]
     },
     "execution_count": 38,
     "metadata": {},
     "output_type": "execute_result"
    }
   ],
   "source": [
    "b"
   ]
  },
  {
   "cell_type": "code",
   "execution_count": 39,
   "id": "726ea6c4-766a-4012-a9fb-965519f85e96",
   "metadata": {},
   "outputs": [
    {
     "data": {
      "text/plain": [
       "{1, 2, 3, 4, 5, 6, 7, 8, 9, 111, 222, 333, 444}"
      ]
     },
     "execution_count": 39,
     "metadata": {},
     "output_type": "execute_result"
    }
   ],
   "source": [
    "b"
   ]
  },
  {
   "cell_type": "code",
   "execution_count": 40,
   "id": "3d0a2e85-886b-48a3-a1b3-9e7761f4f44e",
   "metadata": {},
   "outputs": [],
   "source": [
    "### What is a dictionary? Give an example. Also, state whether a dictionary is ordered or unordered."
   ]
  },
  {
   "cell_type": "markdown",
   "id": "4712b5f0-12d6-4622-8548-fbd40edc123a",
   "metadata": {},
   "source": [
    "##### If we want to create a values with key-value pair like student with id then we should go for dict\n",
    "##### Dict are mutable\n",
    "##### Heterogenous objects are allowed for both key and values.\n"
   ]
  },
  {
   "cell_type": "code",
   "execution_count": 41,
   "id": "dbdc89d6-3f3f-4dc6-ad56-56907a8d6174",
   "metadata": {},
   "outputs": [],
   "source": [
    "d = {10: \"madhu\",20: \"sekhar\",30 : \"krish\"}"
   ]
  },
  {
   "cell_type": "code",
   "execution_count": 42,
   "id": "d4d3bdb0-9481-486b-99f6-39c2743547d9",
   "metadata": {},
   "outputs": [
    {
     "data": {
      "text/plain": [
       "'madhu'"
      ]
     },
     "execution_count": 42,
     "metadata": {},
     "output_type": "execute_result"
    }
   ],
   "source": [
    "d[10]"
   ]
  },
  {
   "cell_type": "code",
   "execution_count": 44,
   "id": "1ce9504b-fbaa-4605-834d-ba43c2b20a5f",
   "metadata": {},
   "outputs": [
    {
     "data": {
      "text/plain": [
       "'krish'"
      ]
     },
     "execution_count": 44,
     "metadata": {},
     "output_type": "execute_result"
    }
   ],
   "source": [
    "d[30]"
   ]
  },
  {
   "cell_type": "code",
   "execution_count": 45,
   "id": "10ba3e4e-4b66-4a41-8452-0ffac9942cdd",
   "metadata": {},
   "outputs": [
    {
     "data": {
      "text/plain": [
       "{10: 'madhu', 20: 'sekhar', 30: 'krish'}"
      ]
     },
     "execution_count": 45,
     "metadata": {},
     "output_type": "execute_result"
    }
   ],
   "source": [
    "d"
   ]
  },
  {
   "cell_type": "code",
   "execution_count": 46,
   "id": "57b65f3f-1860-475c-aa62-1301d15647a3",
   "metadata": {},
   "outputs": [],
   "source": [
    "d[10] = \"raja\""
   ]
  },
  {
   "cell_type": "code",
   "execution_count": 47,
   "id": "28f0cf5d-564c-473a-bbb4-7d607b90873f",
   "metadata": {},
   "outputs": [
    {
     "data": {
      "text/plain": [
       "{10: 'raja', 20: 'sekhar', 30: 'krish'}"
      ]
     },
     "execution_count": 47,
     "metadata": {},
     "output_type": "execute_result"
    }
   ],
   "source": [
    "d"
   ]
  },
  {
   "cell_type": "code",
   "execution_count": 49,
   "id": "9de89047-fcb5-458d-93e4-4c6de8dc63f4",
   "metadata": {},
   "outputs": [
    {
     "data": {
      "text/plain": [
       "{10: 'raja', 20: 'sekhar', 30: 'krish'}"
      ]
     },
     "execution_count": 49,
     "metadata": {},
     "output_type": "execute_result"
    }
   ],
   "source": [
    "d"
   ]
  },
  {
   "cell_type": "code",
   "execution_count": 51,
   "id": "6f581cc7-d619-494a-a9e7-df45a80d4919",
   "metadata": {},
   "outputs": [],
   "source": [
    "###Can we create a nested dictionary? If so, please give an example by creating a simple one-level\n",
    "##nested dictionary. "
   ]
  },
  {
   "cell_type": "code",
   "execution_count": 53,
   "id": "517346be-2eec-4d96-8488-4ef276ad1b49",
   "metadata": {},
   "outputs": [],
   "source": [
    "d = {10:\"Madhu\",200:{1000:\"Raja\",2000:\"chandra\"},300:\"soma\"}"
   ]
  },
  {
   "cell_type": "code",
   "execution_count": 54,
   "id": "1a6e1233-8c39-4b6e-86ed-5fc300d5265a",
   "metadata": {},
   "outputs": [
    {
     "data": {
      "text/plain": [
       "{10: 'Madhu', 200: {1000: 'Raja', 2000: 'chandra'}, 300: 'soma'}"
      ]
     },
     "execution_count": 54,
     "metadata": {},
     "output_type": "execute_result"
    }
   ],
   "source": [
    "d"
   ]
  },
  {
   "cell_type": "code",
   "execution_count": 55,
   "id": "87e7201a-e731-4749-b76d-bff532136c3c",
   "metadata": {},
   "outputs": [
    {
     "data": {
      "text/plain": [
       "{1000: 'Raja', 2000: 'chandra'}"
      ]
     },
     "execution_count": 55,
     "metadata": {},
     "output_type": "execute_result"
    }
   ],
   "source": [
    "d[200]"
   ]
  },
  {
   "cell_type": "code",
   "execution_count": 56,
   "id": "ad02b7f3-73a8-40f5-bee4-be76856b44b2",
   "metadata": {},
   "outputs": [
    {
     "data": {
      "text/plain": [
       "'Raja'"
      ]
     },
     "execution_count": 56,
     "metadata": {},
     "output_type": "execute_result"
    }
   ],
   "source": [
    "d[200][1000]"
   ]
  },
  {
   "cell_type": "code",
   "execution_count": 57,
   "id": "3843867f-a8df-48e3-82b3-a63015aaf2de",
   "metadata": {},
   "outputs": [],
   "source": [
    "#### Using setdefault() method, create key named topics in the given dictionary and also add the value of\n",
    "## the key as this list ['Python', 'Machine Learning’, 'Deep Learning']\n",
    "## dict1 = {'language' : 'Python', 'course': 'Data Science Masters'}"
   ]
  },
  {
   "cell_type": "code",
   "execution_count": 59,
   "id": "f5a4a813-9be7-49d4-9c55-64f3c2390f33",
   "metadata": {},
   "outputs": [],
   "source": [
    "a = {'language' : 'Python', 'Course' : 'Data Science Masters', 'Modules':{\"Machine Learning\",\"Deep Learning\"}}"
   ]
  },
  {
   "cell_type": "code",
   "execution_count": 60,
   "id": "9e8bd58f-f6f9-48fa-9aed-894f0579c8cd",
   "metadata": {},
   "outputs": [
    {
     "data": {
      "text/plain": [
       "{'language': 'Python',\n",
       " 'Course': 'Data Science Masters',\n",
       " 'Modules': {'Deep Learning', 'Machine Learning'}}"
      ]
     },
     "execution_count": 60,
     "metadata": {},
     "output_type": "execute_result"
    }
   ],
   "source": [
    "a"
   ]
  },
  {
   "cell_type": "code",
   "execution_count": 66,
   "id": "02f04ff6-8218-450e-9fd1-745050bfb3f5",
   "metadata": {},
   "outputs": [
    {
     "data": {
      "text/plain": [
       "dict_keys(['language', 'Course', 'Modules'])"
      ]
     },
     "execution_count": 66,
     "metadata": {},
     "output_type": "execute_result"
    }
   ],
   "source": [
    "a.keys()"
   ]
  },
  {
   "cell_type": "code",
   "execution_count": 76,
   "id": "d4276494-f3dd-4cb4-8daf-be1c7a5ec0b9",
   "metadata": {},
   "outputs": [
    {
     "data": {
      "text/plain": [
       "dict_values(['Python', 'Data Science Masters', {'Deep Learning', 'Machine Learning'}])"
      ]
     },
     "execution_count": 76,
     "metadata": {},
     "output_type": "execute_result"
    }
   ],
   "source": [
    "a.values()"
   ]
  },
  {
   "cell_type": "code",
   "execution_count": null,
   "id": "e6ec8cce-1ee5-4084-99cf-aab9ae4fa67d",
   "metadata": {},
   "outputs": [],
   "source": [
    "###What are the three view objects in dictionaries? Use the three in-built methods in python to display\n",
    "# these three view objects for the given dictionary."
   ]
  },
  {
   "cell_type": "code",
   "execution_count": 78,
   "id": "113f3e59-5102-4d2a-8906-961afd2d33cb",
   "metadata": {},
   "outputs": [],
   "source": [
    "dict1 = {'Sport': 'Cricket' , 'Teams': ['India', 'Australia', 'England', 'South Africa', 'Sri Lanka', 'New Zealand']}"
   ]
  },
  {
   "cell_type": "code",
   "execution_count": 79,
   "id": "6e89a92e-6ede-4edc-97ce-14108341b6aa",
   "metadata": {},
   "outputs": [
    {
     "data": {
      "text/plain": [
       "{'Sport': 'Cricket',\n",
       " 'Teams': ['India',\n",
       "  'Australia',\n",
       "  'England',\n",
       "  'South Africa',\n",
       "  'Sri Lanka',\n",
       "  'New Zealand']}"
      ]
     },
     "execution_count": 79,
     "metadata": {},
     "output_type": "execute_result"
    }
   ],
   "source": [
    "dict1"
   ]
  },
  {
   "cell_type": "code",
   "execution_count": 80,
   "id": "4b58deaa-12e5-4914-b1f4-a8788c774a90",
   "metadata": {},
   "outputs": [
    {
     "data": {
      "text/plain": [
       "dict_keys(['Sport', 'Teams'])"
      ]
     },
     "execution_count": 80,
     "metadata": {},
     "output_type": "execute_result"
    }
   ],
   "source": [
    "dict1.keys()"
   ]
  },
  {
   "cell_type": "code",
   "execution_count": 81,
   "id": "75604bc0-90e5-49d0-9739-e3de73ce5013",
   "metadata": {},
   "outputs": [
    {
     "data": {
      "text/plain": [
       "dict_values(['Cricket', ['India', 'Australia', 'England', 'South Africa', 'Sri Lanka', 'New Zealand']])"
      ]
     },
     "execution_count": 81,
     "metadata": {},
     "output_type": "execute_result"
    }
   ],
   "source": [
    "dict1.values()"
   ]
  },
  {
   "cell_type": "code",
   "execution_count": 83,
   "id": "f1125bcc-5c76-46b6-955a-ecadf2476e9b",
   "metadata": {},
   "outputs": [
    {
     "data": {
      "text/plain": [
       "['India', 'Australia', 'England', 'South Africa', 'Sri Lanka', 'New Zealand']"
      ]
     },
     "execution_count": 83,
     "metadata": {},
     "output_type": "execute_result"
    }
   ],
   "source": [
    "dict1['Teams']"
   ]
  },
  {
   "cell_type": "code",
   "execution_count": 86,
   "id": "f934fc48-42e3-4b5f-9030-b58ae742d782",
   "metadata": {},
   "outputs": [
    {
     "name": "stdout",
     "output_type": "stream",
     "text": [
      "India\n",
      "South Africa\n"
     ]
    }
   ],
   "source": [
    "print(dict1['Teams'][0])\n",
    "print(dict1['Teams'][3])"
   ]
  },
  {
   "cell_type": "code",
   "execution_count": 88,
   "id": "7c949bbc-4192-469c-b4e8-b345e2d6e2e6",
   "metadata": {},
   "outputs": [
    {
     "data": {
      "text/plain": [
       "'Cricket'"
      ]
     },
     "execution_count": 88,
     "metadata": {},
     "output_type": "execute_result"
    }
   ],
   "source": [
    "dict1['Sport']"
   ]
  },
  {
   "cell_type": "code",
   "execution_count": 90,
   "id": "e26c8db9-84b1-47ec-b667-42a28b1f4a08",
   "metadata": {},
   "outputs": [
    {
     "data": {
      "text/plain": [
       "dict_values(['Cricket', ['India', 'Australia', 'England', 'South Africa', 'Sri Lanka', 'New Zealand']])"
      ]
     },
     "execution_count": 90,
     "metadata": {},
     "output_type": "execute_result"
    }
   ],
   "source": [
    "dict1.values()"
   ]
  },
  {
   "cell_type": "code",
   "execution_count": null,
   "id": "631123bf-f96d-44e5-9bdc-49b520f0ee32",
   "metadata": {},
   "outputs": [],
   "source": []
  }
 ],
 "metadata": {
  "kernelspec": {
   "display_name": "Python 3 (ipykernel)",
   "language": "python",
   "name": "python3"
  },
  "language_info": {
   "codemirror_mode": {
    "name": "ipython",
    "version": 3
   },
   "file_extension": ".py",
   "mimetype": "text/x-python",
   "name": "python",
   "nbconvert_exporter": "python",
   "pygments_lexer": "ipython3",
   "version": "3.10.8"
  }
 },
 "nbformat": 4,
 "nbformat_minor": 5
}
