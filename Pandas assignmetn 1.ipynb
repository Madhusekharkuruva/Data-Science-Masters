{
 "cells": [
  {
   "cell_type": "code",
   "execution_count": 1,
   "id": "f5cecd37-08d6-427d-bfe9-3d0a18712d9f",
   "metadata": {},
   "outputs": [],
   "source": [
    "import pandas as pd"
   ]
  },
  {
   "cell_type": "code",
   "execution_count": 2,
   "id": "19931891-4368-48b5-8fa8-7ed3371b7a40",
   "metadata": {},
   "outputs": [],
   "source": [
    "ds = pd.Series([1,2,3,4])"
   ]
  },
  {
   "cell_type": "code",
   "execution_count": 3,
   "id": "4802c920-5058-4145-a86e-0dd9b0e184c3",
   "metadata": {},
   "outputs": [
    {
     "data": {
      "text/plain": [
       "0    1\n",
       "1    2\n",
       "2    3\n",
       "3    4\n",
       "dtype: int64"
      ]
     },
     "execution_count": 3,
     "metadata": {},
     "output_type": "execute_result"
    }
   ],
   "source": [
    "ds"
   ]
  },
  {
   "cell_type": "markdown",
   "id": "9e712ce5-21c3-4128-b746-9d409625c46b",
   "metadata": {},
   "source": [
    "### Q2. Create a variable of list type containing 10 elements in it, and apply pandas.Series function on the\n",
    "### variable print it."
   ]
  },
  {
   "cell_type": "code",
   "execution_count": 20,
   "id": "2a5871b3-ed1a-4d3b-9127-3fbd7cce3e15",
   "metadata": {},
   "outputs": [],
   "source": [
    "lis = [10,20,30,40,50,60,70,80,90,100]\n"
   ]
  },
  {
   "cell_type": "code",
   "execution_count": 23,
   "id": "cddd0865-9fd2-4b51-b99a-14dcae9477e9",
   "metadata": {},
   "outputs": [],
   "source": [
    "df = pd.Series(lis)"
   ]
  },
  {
   "cell_type": "code",
   "execution_count": 24,
   "id": "fe91adbe-d569-4b57-b4a1-c6f4ee614354",
   "metadata": {},
   "outputs": [
    {
     "data": {
      "text/plain": [
       "0     10\n",
       "1     20\n",
       "2     30\n",
       "3     40\n",
       "4     50\n",
       "5     60\n",
       "6     70\n",
       "7     80\n",
       "8     90\n",
       "9    100\n",
       "dtype: int64"
      ]
     },
     "execution_count": 24,
     "metadata": {},
     "output_type": "execute_result"
    }
   ],
   "source": [
    "df"
   ]
  },
  {
   "cell_type": "markdown",
   "id": "f17730d4-39a3-41d2-a33d-5f3323bcc35e",
   "metadata": {},
   "source": [
    "### Create a Pandas DataFrame that contains the following data:\n",
    "### Then, print the DataFrame."
   ]
  },
  {
   "cell_type": "code",
   "execution_count": 26,
   "id": "be90c77d-000a-483c-a89f-9a9bbe65ddaa",
   "metadata": {},
   "outputs": [],
   "source": [
    "data = {\"Name\" : ['Alice','Bob','Claire'],\n",
    "        \"Age\" : [25,26,27],\n",
    "        \"gender\": ['Female','Male','Female']\n",
    "       }"
   ]
  },
  {
   "cell_type": "code",
   "execution_count": 27,
   "id": "274284fb-7782-425b-89d1-704544d569c1",
   "metadata": {},
   "outputs": [],
   "source": [
    "df = pd.DataFrame(data)"
   ]
  },
  {
   "cell_type": "code",
   "execution_count": 28,
   "id": "4e8d1d02-2a3b-43a3-ae21-94951dde5392",
   "metadata": {},
   "outputs": [
    {
     "data": {
      "text/html": [
       "<div>\n",
       "<style scoped>\n",
       "    .dataframe tbody tr th:only-of-type {\n",
       "        vertical-align: middle;\n",
       "    }\n",
       "\n",
       "    .dataframe tbody tr th {\n",
       "        vertical-align: top;\n",
       "    }\n",
       "\n",
       "    .dataframe thead th {\n",
       "        text-align: right;\n",
       "    }\n",
       "</style>\n",
       "<table border=\"1\" class=\"dataframe\">\n",
       "  <thead>\n",
       "    <tr style=\"text-align: right;\">\n",
       "      <th></th>\n",
       "      <th>Name</th>\n",
       "      <th>Age</th>\n",
       "      <th>gender</th>\n",
       "    </tr>\n",
       "  </thead>\n",
       "  <tbody>\n",
       "    <tr>\n",
       "      <th>0</th>\n",
       "      <td>Alice</td>\n",
       "      <td>25</td>\n",
       "      <td>Female</td>\n",
       "    </tr>\n",
       "    <tr>\n",
       "      <th>1</th>\n",
       "      <td>Bob</td>\n",
       "      <td>26</td>\n",
       "      <td>Male</td>\n",
       "    </tr>\n",
       "    <tr>\n",
       "      <th>2</th>\n",
       "      <td>Claire</td>\n",
       "      <td>27</td>\n",
       "      <td>Female</td>\n",
       "    </tr>\n",
       "  </tbody>\n",
       "</table>\n",
       "</div>"
      ],
      "text/plain": [
       "     Name  Age  gender\n",
       "0   Alice   25  Female\n",
       "1     Bob   26    Male\n",
       "2  Claire   27  Female"
      ]
     },
     "execution_count": 28,
     "metadata": {},
     "output_type": "execute_result"
    }
   ],
   "source": [
    "df"
   ]
  },
  {
   "cell_type": "markdown",
   "id": "c39ea7a2-0980-489c-9720-2c3cf5051626",
   "metadata": {},
   "source": [
    "#### Q4. What is ‘DataFrame’ in pandas and how is it different from pandas.series? Explain with an example."
   ]
  },
  {
   "cell_type": "markdown",
   "id": "8a35e62c-d4d9-4f7b-a98d-82086b4a0fca",
   "metadata": {},
   "source": [
    "### \"Data Frame\":- Data Frame is a labled 2 dimentsinal array \n",
    "### \"Seires\": - Series is a one dimensional Array"
   ]
  },
  {
   "cell_type": "code",
   "execution_count": 29,
   "id": "6f80990e-40fc-4ff1-9569-87b403758690",
   "metadata": {},
   "outputs": [
    {
     "data": {
      "text/plain": [
       "0    1\n",
       "1    2\n",
       "2    3\n",
       "3    4\n",
       "dtype: int64"
      ]
     },
     "execution_count": 29,
     "metadata": {},
     "output_type": "execute_result"
    }
   ],
   "source": [
    "ds = pd.Series([1,2,3,4])\n",
    "ds"
   ]
  },
  {
   "cell_type": "code",
   "execution_count": 30,
   "id": "672406d0-0fc6-4c23-a856-de151d327a39",
   "metadata": {},
   "outputs": [],
   "source": [
    "data = {\"Name\" : ['Alice','Bob','Claire'],\n",
    "        \"Age\" : [25,26,27],\n",
    "        \"gender\": ['Female','Male','Female']\n",
    "       }"
   ]
  },
  {
   "cell_type": "code",
   "execution_count": 31,
   "id": "c91ca994-460b-4e09-b743-ac78675c6b2a",
   "metadata": {},
   "outputs": [
    {
     "data": {
      "text/plain": [
       "{'Name': ['Alice', 'Bob', 'Claire'],\n",
       " 'Age': [25, 26, 27],\n",
       " 'gender': ['Female', 'Male', 'Female']}"
      ]
     },
     "execution_count": 31,
     "metadata": {},
     "output_type": "execute_result"
    }
   ],
   "source": [
    "data"
   ]
  },
  {
   "cell_type": "code",
   "execution_count": 37,
   "id": "bdefbf54-9547-4de3-99e5-aa892de6f1f2",
   "metadata": {},
   "outputs": [],
   "source": [
    "df = pd.DataFrame(data)"
   ]
  },
  {
   "cell_type": "code",
   "execution_count": 38,
   "id": "1a92f8a9-ceb9-45be-9013-1b0cc1aa864f",
   "metadata": {},
   "outputs": [
    {
     "data": {
      "text/html": [
       "<div>\n",
       "<style scoped>\n",
       "    .dataframe tbody tr th:only-of-type {\n",
       "        vertical-align: middle;\n",
       "    }\n",
       "\n",
       "    .dataframe tbody tr th {\n",
       "        vertical-align: top;\n",
       "    }\n",
       "\n",
       "    .dataframe thead th {\n",
       "        text-align: right;\n",
       "    }\n",
       "</style>\n",
       "<table border=\"1\" class=\"dataframe\">\n",
       "  <thead>\n",
       "    <tr style=\"text-align: right;\">\n",
       "      <th></th>\n",
       "      <th>Name</th>\n",
       "      <th>Age</th>\n",
       "      <th>gender</th>\n",
       "    </tr>\n",
       "  </thead>\n",
       "  <tbody>\n",
       "    <tr>\n",
       "      <th>0</th>\n",
       "      <td>Alice</td>\n",
       "      <td>25</td>\n",
       "      <td>Female</td>\n",
       "    </tr>\n",
       "    <tr>\n",
       "      <th>1</th>\n",
       "      <td>Bob</td>\n",
       "      <td>26</td>\n",
       "      <td>Male</td>\n",
       "    </tr>\n",
       "    <tr>\n",
       "      <th>2</th>\n",
       "      <td>Claire</td>\n",
       "      <td>27</td>\n",
       "      <td>Female</td>\n",
       "    </tr>\n",
       "  </tbody>\n",
       "</table>\n",
       "</div>"
      ],
      "text/plain": [
       "     Name  Age  gender\n",
       "0   Alice   25  Female\n",
       "1     Bob   26    Male\n",
       "2  Claire   27  Female"
      ]
     },
     "execution_count": 38,
     "metadata": {},
     "output_type": "execute_result"
    }
   ],
   "source": [
    "df"
   ]
  },
  {
   "cell_type": "markdown",
   "id": "dfa64d9b-0e98-421a-a5bd-18baedd2fb8e",
   "metadata": {},
   "source": [
    "#### What are some common functions you can use to manipulate data in a Pandas DataFrame? Can\n",
    "    you give an example of when you might use one of these functions?\n",
    "\n",
    "  Head and Tail. Once we read a dataset into a pandas data frame, we want to take a look at it to get an overview. ...\n",
    "  Dtypes. ...\n",
    "  Shape and Size. ...\n"
   ]
  },
  {
   "cell_type": "code",
   "execution_count": 39,
   "id": "08f7f91b-7c43-446b-b7b3-9c88bc661c43",
   "metadata": {},
   "outputs": [],
   "source": [
    "### Which of the following is mutable in nature Series, DataFrame, Panel?"
   ]
  },
  {
   "cell_type": "markdown",
   "id": "90452e99-ed1a-465e-b80f-3be1ebb7098d",
   "metadata": {},
   "source": [
    "A Series is a one dimensional array like structure with homogeneous data. The values of the series are mutable means we can change any value in series, but the size of the series is immutable so we can not change the size of the series. A series can hold any type of data like integer, decimal, string, python objects, etc. "
   ]
  },
  {
   "cell_type": "markdown",
   "id": "79bc2ded-cefd-4ba2-96a5-e43842d090f4",
   "metadata": {},
   "source": [
    "DataFrame is a two-dimensional array with heterogeneous data. A DataFrame size is mutable and data is also mutable so we can change the data and size of DataFrame at any time. "
   ]
  },
  {
   "cell_type": "markdown",
   "id": "5cf648e6-f1fb-4ed6-a292-13fcf335a474",
   "metadata": {},
   "source": [
    "The panel is a three-dimensional data structure with heterogeneous data. It is very hard to represent the Panel in a graphical representation. But a Panel can be illustrated as a container of a DataFrame. In Panel Data and size are mutable."
   ]
  },
  {
   "cell_type": "code",
   "execution_count": 44,
   "id": "ba6aa52e-9feb-4b59-a456-f516bc9214f0",
   "metadata": {},
   "outputs": [
    {
     "name": "stdout",
     "output_type": "stream",
     "text": [
      "   courses   fees  discount\n",
      "0    Spark  22000      1000\n",
      "1  PySpark  25000      2300\n",
      "2   Hadoop  23000      1000\n"
     ]
    }
   ],
   "source": [
    "##Q7. Create a DataFrame using multiple Series. Explain with an example.\n",
    "courses = pd.Series([\"Spark\",\"PySpark\",\"Hadoop\"], name='courses')\n",
    "fees = pd.Series([22000,25000,23000], name='fees')\n",
    "discount  = pd.Series([1000,2300,1000],name='discount')\n",
    "\n",
    "df=pd.concat([courses,fees,discount],axis=1)\n",
    "print(df)"
   ]
  },
  {
   "cell_type": "code",
   "execution_count": null,
   "id": "83141989-5c49-40b8-88cb-b081f2661359",
   "metadata": {},
   "outputs": [],
   "source": []
  }
 ],
 "metadata": {
  "kernelspec": {
   "display_name": "Python 3 (ipykernel)",
   "language": "python",
   "name": "python3"
  },
  "language_info": {
   "codemirror_mode": {
    "name": "ipython",
    "version": 3
   },
   "file_extension": ".py",
   "mimetype": "text/x-python",
   "name": "python",
   "nbconvert_exporter": "python",
   "pygments_lexer": "ipython3",
   "version": "3.10.8"
  }
 },
 "nbformat": 4,
 "nbformat_minor": 5
}
