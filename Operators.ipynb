{
 "cells": [
  {
   "cell_type": "markdown",
   "id": "3617cb94-f36a-4350-b9fd-ba2a17354444",
   "metadata": {},
   "source": [
    "### Operators"
   ]
  },
  {
   "cell_type": "markdown",
   "id": "30608d1d-009d-4306-bdb0-649130402691",
   "metadata": {},
   "source": [
    "#### 1. Arithmetic Operators\n",
    "#### 2. Relational Operators\n",
    "#### 3. Logical Operators\n",
    "#### 4. Assignment Operator\n",
    "#### 5. Special operators\n"
   ]
  },
  {
   "cell_type": "code",
   "execution_count": 1,
   "id": "2fcbaf77-db94-4f2f-bd25-037e84f465a7",
   "metadata": {},
   "outputs": [],
   "source": [
    "# Addition, Substraction,Multi,Division, Modulo ,Floor division ,Exponenet. "
   ]
  },
  {
   "cell_type": "code",
   "execution_count": 2,
   "id": "6a836b27-be57-4b34-87bf-075659303626",
   "metadata": {},
   "outputs": [
    {
     "name": "stdout",
     "output_type": "stream",
     "text": [
      "30\n",
      "-10\n",
      "0.5\n",
      "200\n",
      "0\n",
      "100000000000000000000\n"
     ]
    }
   ],
   "source": [
    "a = 10\n",
    "b = 20\n",
    "print(a+b)\n",
    "print(a-b)\n",
    "print(a/b)\n",
    "print(a*b)\n",
    "print(a//b)\n",
    "print(a**b)"
   ]
  },
  {
   "cell_type": "markdown",
   "id": "c9e0a7b8-afb0-472f-9e15-f09c831f9819",
   "metadata": {},
   "source": [
    "#### Relational Operators:\n"
   ]
  },
  {
   "cell_type": "code",
   "execution_count": 4,
   "id": "9a3e2167-ebb2-48ea-8686-c08acb2d7dd4",
   "metadata": {},
   "outputs": [],
   "source": [
    "#>,>=,<,<=\n"
   ]
  },
  {
   "cell_type": "code",
   "execution_count": 6,
   "id": "c9c7b766-87a1-4715-a20a-90f0c539a6e6",
   "metadata": {},
   "outputs": [
    {
     "name": "stdout",
     "output_type": "stream",
     "text": [
      "False\n",
      "False\n",
      "True\n",
      "True\n"
     ]
    }
   ],
   "source": [
    "a = 10\n",
    "b = 20\n",
    "print(a>b)\n",
    "print(a>=b)\n",
    "print(a<b)\n",
    "print(a<=b)"
   ]
  },
  {
   "cell_type": "code",
   "execution_count": 7,
   "id": "c2f5146e-2d40-4649-bc90-7966b8c2404c",
   "metadata": {},
   "outputs": [
    {
     "name": "stdout",
     "output_type": "stream",
     "text": [
      "False\n",
      "True\n",
      "True\n",
      "False\n"
     ]
    }
   ],
   "source": [
    "a = \"Durga\"\n",
    "b = \"Lipsita\"\n",
    "print(a>b)\n",
    "print(a<b)\n",
    "print(a<=b)\n",
    "print(a>=b)\n"
   ]
  },
  {
   "cell_type": "markdown",
   "id": "7c3fbd5a-21e2-4ce0-a01e-37a0614878b6",
   "metadata": {},
   "source": [
    "#### Equality Operators:\n"
   ]
  },
  {
   "cell_type": "code",
   "execution_count": 8,
   "id": "3bd89b1c-fa71-4e85-823a-599f13840b2f",
   "metadata": {},
   "outputs": [
    {
     "data": {
      "text/plain": [
       "True"
      ]
     },
     "execution_count": 8,
     "metadata": {},
     "output_type": "execute_result"
    }
   ],
   "source": [
    "10 == 10"
   ]
  },
  {
   "cell_type": "code",
   "execution_count": 9,
   "id": "6285e1cf-cef4-4425-82f8-427903bb3e74",
   "metadata": {},
   "outputs": [
    {
     "data": {
      "text/plain": [
       "False"
      ]
     },
     "execution_count": 9,
     "metadata": {},
     "output_type": "execute_result"
    }
   ],
   "source": [
    "20 == 10"
   ]
  },
  {
   "cell_type": "code",
   "execution_count": 10,
   "id": "c8b1f982-a6ac-4d47-9fe3-39e702ae9474",
   "metadata": {},
   "outputs": [
    {
     "data": {
      "text/plain": [
       "True"
      ]
     },
     "execution_count": 10,
     "metadata": {},
     "output_type": "execute_result"
    }
   ],
   "source": [
    "False == False"
   ]
  },
  {
   "cell_type": "code",
   "execution_count": 11,
   "id": "ee03f4d6-477f-4951-81d0-7eec3744c16d",
   "metadata": {},
   "outputs": [
    {
     "data": {
      "text/plain": [
       "True"
      ]
     },
     "execution_count": 11,
     "metadata": {},
     "output_type": "execute_result"
    }
   ],
   "source": [
    "True == True"
   ]
  },
  {
   "cell_type": "markdown",
   "id": "1b5ad677-1469-4bb6-bc91-96e051f43de1",
   "metadata": {},
   "source": [
    "#### Logical Opeators"
   ]
  },
  {
   "cell_type": "code",
   "execution_count": 12,
   "id": "0790982b-109f-40f7-8358-b27f41b7662d",
   "metadata": {},
   "outputs": [
    {
     "data": {
      "text/plain": [
       "False"
      ]
     },
     "execution_count": 12,
     "metadata": {},
     "output_type": "execute_result"
    }
   ],
   "source": [
    "True and False"
   ]
  },
  {
   "cell_type": "code",
   "execution_count": 13,
   "id": "a73920ee-7115-4768-b6f2-1d82f49eebf1",
   "metadata": {},
   "outputs": [
    {
     "data": {
      "text/plain": [
       "True"
      ]
     },
     "execution_count": 13,
     "metadata": {},
     "output_type": "execute_result"
    }
   ],
   "source": [
    "True or False"
   ]
  },
  {
   "cell_type": "code",
   "execution_count": 14,
   "id": "c01a8ca0-f71b-4995-9f9e-27930861fbb7",
   "metadata": {},
   "outputs": [
    {
     "data": {
      "text/plain": [
       "True"
      ]
     },
     "execution_count": 14,
     "metadata": {},
     "output_type": "execute_result"
    }
   ],
   "source": [
    "not False "
   ]
  },
  {
   "cell_type": "code",
   "execution_count": 15,
   "id": "1d93dbf8-aa23-4ec6-9b2f-83acb7fe664d",
   "metadata": {},
   "outputs": [],
   "source": [
    "## program for minimum of 3 numbers"
   ]
  },
  {
   "cell_type": "code",
   "execution_count": 17,
   "id": "eaa5ca66-c930-4e8a-b5b8-513bbf4932c0",
   "metadata": {},
   "outputs": [
    {
     "name": "stdin",
     "output_type": "stream",
     "text": [
      "enter a 12\n",
      "enter b 14\n",
      "enter c 15\n"
     ]
    },
    {
     "name": "stdout",
     "output_type": "stream",
     "text": [
      "15\n"
     ]
    }
   ],
   "source": [
    "a = int(input(\"enter a\"))\n",
    "b = int(input(\"enter b\"))\n",
    "c = int(input(\"enter c\"))\n",
    "if a>b and a>c:\n",
    "    print(a)\n",
    "elif b>c:\n",
    "    print(b)\n",
    "else:\n",
    "    print(c)"
   ]
  },
  {
   "cell_type": "code",
   "execution_count": 19,
   "id": "9e477ae7-baa5-439e-b646-0a246e37a6c7",
   "metadata": {},
   "outputs": [
    {
     "name": "stdin",
     "output_type": "stream",
     "text": [
      "enter a 11\n",
      "enter b 12\n",
      "enter c 5\n"
     ]
    },
    {
     "name": "stdout",
     "output_type": "stream",
     "text": [
      "5\n"
     ]
    }
   ],
   "source": [
    "a = int(input(\"enter a\"))\n",
    "b = int(input(\"enter b\"))\n",
    "c = int(input(\"enter c\"))\n",
    "if a<b and a<c:\n",
    "    print(a)\n",
    "elif b<c:\n",
    "    print(b)\n",
    "else:\n",
    "    print(c)"
   ]
  },
  {
   "cell_type": "code",
   "execution_count": 20,
   "id": "eeef0953-f4ca-4ff0-90ad-5568f59a95c5",
   "metadata": {},
   "outputs": [
    {
     "name": "stdin",
     "output_type": "stream",
     "text": [
      "enter a 15\n",
      "enter b 75\n",
      "enter c 555\n"
     ]
    },
    {
     "name": "stdout",
     "output_type": "stream",
     "text": [
      "555\n"
     ]
    }
   ],
   "source": [
    "a = int(input(\"enter a\"))\n",
    "b = int(input(\"enter b\"))\n",
    "c = int(input(\"enter c\"))\n",
    "max = a if a>b and a>c else b if b>c else c\n",
    "print(max)"
   ]
  },
  {
   "cell_type": "markdown",
   "id": "2e2ef4f5-a72b-4dd7-ab0c-a856034050bc",
   "metadata": {},
   "source": [
    "### Identity Operator"
   ]
  },
  {
   "cell_type": "markdown",
   "id": "bbd9158b-9db4-49ef-88ed-27966f24bbe6",
   "metadata": {},
   "source": [
    "### is \n",
    "### is not"
   ]
  },
  {
   "cell_type": "code",
   "execution_count": 21,
   "id": "9d3c86ff-7947-4d83-8685-0a340076b253",
   "metadata": {},
   "outputs": [
    {
     "name": "stdout",
     "output_type": "stream",
     "text": [
      "True\n"
     ]
    }
   ],
   "source": [
    "a = 10\n",
    "b = 10\n",
    "print(a is b)"
   ]
  },
  {
   "cell_type": "code",
   "execution_count": 22,
   "id": "c5b522ca-6cee-4e96-956b-24151622e99c",
   "metadata": {},
   "outputs": [],
   "source": [
    "x = True\n",
    "y = True"
   ]
  },
  {
   "cell_type": "code",
   "execution_count": 23,
   "id": "879b9312-9025-4830-8804-37361d31201f",
   "metadata": {},
   "outputs": [
    {
     "name": "stdout",
     "output_type": "stream",
     "text": [
      "True\n"
     ]
    }
   ],
   "source": [
    "print(x is y)"
   ]
  },
  {
   "cell_type": "markdown",
   "id": "cbc3f7d2-63b8-495c-82a9-01342fc2cc61",
   "metadata": {},
   "source": [
    "#### Membership Operators"
   ]
  },
  {
   "cell_type": "code",
   "execution_count": 24,
   "id": "62eed99e-f93d-4000-99dd-cc68081314a0",
   "metadata": {},
   "outputs": [],
   "source": [
    "x = \"hello learing Python is very very easy\""
   ]
  },
  {
   "cell_type": "code",
   "execution_count": 25,
   "id": "648790bb-e4ae-4279-b905-603a0c3449c2",
   "metadata": {},
   "outputs": [
    {
     "name": "stdout",
     "output_type": "stream",
     "text": [
      "True\n"
     ]
    }
   ],
   "source": [
    "print(\"h\" in x)"
   ]
  },
  {
   "cell_type": "code",
   "execution_count": 26,
   "id": "5d464bac-a6e7-4aec-99e5-6b566bb6bd2e",
   "metadata": {},
   "outputs": [
    {
     "name": "stdout",
     "output_type": "stream",
     "text": [
      "True\n"
     ]
    }
   ],
   "source": [
    "print(\"very\" in x)"
   ]
  },
  {
   "cell_type": "code",
   "execution_count": 27,
   "id": "a6b61d2e-6690-4fa5-aa18-ce2cdd3772cf",
   "metadata": {},
   "outputs": [
    {
     "name": "stdout",
     "output_type": "stream",
     "text": [
      "True\n"
     ]
    }
   ],
   "source": [
    "print(\"d\" not in x)"
   ]
  },
  {
   "cell_type": "markdown",
   "id": "f8bd171f-ed94-4f47-b808-ee0fc5a3a531",
   "metadata": {},
   "source": [
    "#### Opeator Precedence"
   ]
  },
  {
   "cell_type": "code",
   "execution_count": 28,
   "id": "dc7a440e-0d0e-4406-9174-63bea2d81279",
   "metadata": {},
   "outputs": [
    {
     "name": "stdout",
     "output_type": "stream",
     "text": [
      "23\n"
     ]
    }
   ],
   "source": [
    "print(3+10*2) "
   ]
  },
  {
   "cell_type": "code",
   "execution_count": null,
   "id": "ab521aea-6c39-4dd3-8f48-b6d29bd9f17c",
   "metadata": {},
   "outputs": [],
   "source": [
    "### The following list describes operator precedence in python\n",
    "### Parenthesis\n",
    "###"
   ]
  }
 ],
 "metadata": {
  "kernelspec": {
   "display_name": "Python 3 (ipykernel)",
   "language": "python",
   "name": "python3"
  },
  "language_info": {
   "codemirror_mode": {
    "name": "ipython",
    "version": 3
   },
   "file_extension": ".py",
   "mimetype": "text/x-python",
   "name": "python",
   "nbconvert_exporter": "python",
   "pygments_lexer": "ipython3",
   "version": "3.10.8"
  }
 },
 "nbformat": 4,
 "nbformat_minor": 5
}
